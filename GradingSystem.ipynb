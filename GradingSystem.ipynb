{
 "cells": [
  {
   "cell_type": "code",
   "execution_count": 1,
   "id": "a76bb94e-f65c-495c-a171-3c99dc0b334a",
   "metadata": {},
   "outputs": [],
   "source": [
    "# A:marks equal and above 90\n",
    "# B:marks equal to 80 and less than 90\n",
    "# C:marks equal to 70 and less than 80\n",
    "# D:marks equal to 60 and less than 70\n",
    "# E:less than or 60"
   ]
  },
  {
   "cell_type": "code",
   "execution_count": 9,
   "id": "efc82782-d08b-40dd-a9ee-758302182214",
   "metadata": {},
   "outputs": [
    {
     "name": "stdin",
     "output_type": "stream",
     "text": [
      " 120\n"
     ]
    },
    {
     "name": "stdout",
     "output_type": "stream",
     "text": [
      "Invalid\n"
     ]
    }
   ],
   "source": [
    "marks = int(input())\n",
    "\n",
    "if marks >= 90 and marks <=100:\n",
    "    print(\"A grade\")\n",
    "elif marks >= 80 and marks < 90:\n",
    "    print(\"B grade\")\n",
    "elif marks >= 70 and marks < 80:\n",
    "    print(\"C grade\")\n",
    "elif marks >= 60 and marks < 70:\n",
    "    print(\"D grade\")\n",
    "elif marks < 60:\n",
    "    print(\"E\")\n",
    "else:\n",
    "    print(\"Invalid\")\n"
   ]
  },
  {
   "cell_type": "code",
   "execution_count": null,
   "id": "6a4460b4-b409-4569-8692-33d8cdbe5556",
   "metadata": {},
   "outputs": [],
   "source": []
  }
 ],
 "metadata": {
  "kernelspec": {
   "display_name": "Python 3 (ipykernel)",
   "language": "python",
   "name": "python3"
  },
  "language_info": {
   "codemirror_mode": {
    "name": "ipython",
    "version": 3
   },
   "file_extension": ".py",
   "mimetype": "text/x-python",
   "name": "python",
   "nbconvert_exporter": "python",
   "pygments_lexer": "ipython3",
   "version": "3.12.4"
  }
 },
 "nbformat": 4,
 "nbformat_minor": 5
}
