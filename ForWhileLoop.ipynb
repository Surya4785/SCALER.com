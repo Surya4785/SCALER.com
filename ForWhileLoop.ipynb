{
 "cells": [
  {
   "cell_type": "code",
   "execution_count": 1,
   "id": "5396e4da-10c6-49a4-8a0a-dd21c7391402",
   "metadata": {},
   "outputs": [],
   "source": [
    "# iterator, iterable and iteration"
   ]
  },
  {
   "cell_type": "code",
   "execution_count": 3,
   "id": "70478465-7503-4dbd-8cfb-8f022fb5fb91",
   "metadata": {},
   "outputs": [],
   "source": [
    "# for loop:  "
   ]
  },
  {
   "cell_type": "code",
   "execution_count": 7,
   "id": "b6128eb0-3cc0-499a-af2a-2632ac92ed23",
   "metadata": {},
   "outputs": [
    {
     "name": "stdout",
     "output_type": "stream",
     "text": [
      "1 2 3 4 5 6 7 8 9 10 "
     ]
    }
   ],
   "source": [
    "# i : iterator\n",
    "# range(): iteable\n",
    "for i in range(1, 11):\n",
    "    print(i, end=\" \")"
   ]
  },
  {
   "cell_type": "code",
   "execution_count": 9,
   "id": "6e1271f3-5260-4c7c-b117-f359a0fb2d6c",
   "metadata": {},
   "outputs": [],
   "source": [
    "# multiplication table of 5"
   ]
  },
  {
   "cell_type": "code",
   "execution_count": 11,
   "id": "2b25440e-6096-4ca0-a48e-1cca089976fa",
   "metadata": {},
   "outputs": [
    {
     "name": "stdin",
     "output_type": "stream",
     "text": [
      " 10\n"
     ]
    },
    {
     "name": "stdout",
     "output_type": "stream",
     "text": [
      "10\n",
      "20\n",
      "30\n",
      "40\n",
      "50\n",
      "60\n",
      "70\n",
      "80\n",
      "90\n",
      "100\n"
     ]
    }
   ],
   "source": [
    "n = int(input())\n",
    "\n",
    "for i in range(1, 11):\n",
    "    print(i * n)"
   ]
  },
  {
   "cell_type": "code",
   "execution_count": 28,
   "id": "e990defc-2182-40e0-a269-4cb8da094e07",
   "metadata": {},
   "outputs": [],
   "source": [
    "# pattern 01"
   ]
  },
  {
   "cell_type": "code",
   "execution_count": 15,
   "id": "05d92baa-82a9-4867-aa00-040818a096ce",
   "metadata": {},
   "outputs": [
    {
     "name": "stdout",
     "output_type": "stream",
     "text": [
      "# # # # \n",
      "# # # # \n",
      "# # # # \n",
      "# # # # "
     ]
    }
   ],
   "source": [
    "for i in range(4):\n",
    "    print(\"#\", end=\" \")\n",
    "print()\n",
    "for i in range(4):\n",
    "    print(\"#\", end=\" \")\n",
    "print()\n",
    "for i in range(4):\n",
    "    print(\"#\", end=\" \")\n",
    "print()\n",
    "for i in range(4):\n",
    "    print(\"#\", end=\" \")\n",
    "        "
   ]
  },
  {
   "cell_type": "code",
   "execution_count": 26,
   "id": "425e527f-55f5-4606-a7c9-927d4ac7fb1c",
   "metadata": {},
   "outputs": [
    {
     "name": "stdout",
     "output_type": "stream",
     "text": [
      "# # # # \n",
      "# # # # \n",
      "# # # # \n",
      "# # # # \n"
     ]
    }
   ],
   "source": [
    "# nested loop\n",
    "for i in range(4):\n",
    "    for j in range(4):\n",
    "        print(\"#\", end=\" \")\n",
    "    print()"
   ]
  },
  {
   "cell_type": "code",
   "execution_count": 30,
   "id": "c9255c32-cdfe-43d8-8788-55da60e562e7",
   "metadata": {},
   "outputs": [],
   "source": [
    "# pattern 02"
   ]
  },
  {
   "cell_type": "code",
   "execution_count": 40,
   "id": "0c1300a8-83aa-48e4-8b62-1380af2ee6d1",
   "metadata": {},
   "outputs": [
    {
     "name": "stdin",
     "output_type": "stream",
     "text": [
      " 10\n"
     ]
    },
    {
     "name": "stdout",
     "output_type": "stream",
     "text": [
      "# \n",
      "# # \n",
      "# # # \n",
      "# # # # \n",
      "# # # # # \n",
      "# # # # # # \n",
      "# # # # # # # \n",
      "# # # # # # # # \n",
      "# # # # # # # # # \n",
      "# # # # # # # # # # \n"
     ]
    }
   ],
   "source": [
    "n = int(input())\n",
    "\n",
    "# run for rows\n",
    "for i in range(1, n+1):\n",
    "    for j in range(i):\n",
    "        print(\"#\", end=\" \")\n",
    "            \n",
    "    # after printing row go to next row\n",
    "    print()"
   ]
  },
  {
   "cell_type": "code",
   "execution_count": 42,
   "id": "cd07d459-5a82-43c6-b923-ebbc67fdf018",
   "metadata": {},
   "outputs": [],
   "source": [
    "# Break, Continue and Pass"
   ]
  },
  {
   "cell_type": "code",
   "execution_count": 44,
   "id": "d33d13e8-b0d1-4b8a-a22d-a65f1a56f92d",
   "metadata": {},
   "outputs": [],
   "source": [
    "# pass"
   ]
  },
  {
   "cell_type": "code",
   "execution_count": 46,
   "id": "870b810c-12ad-4532-b635-1c350effba9e",
   "metadata": {},
   "outputs": [],
   "source": [
    "for i in range(1, 10):\n",
    "    pass"
   ]
  },
  {
   "cell_type": "code",
   "execution_count": 48,
   "id": "22296687-6ac4-4b86-9306-2e742c5705b9",
   "metadata": {},
   "outputs": [],
   "source": [
    "def funf():\n",
    "    pass"
   ]
  },
  {
   "cell_type": "code",
   "execution_count": 50,
   "id": "f38d58f0-9f67-486d-8118-b540a2a041c6",
   "metadata": {},
   "outputs": [],
   "source": [
    "# continue"
   ]
  },
  {
   "cell_type": "code",
   "execution_count": 52,
   "id": "6d7d29a4-d674-4f44-9fd7-dd059760085b",
   "metadata": {},
   "outputs": [
    {
     "name": "stdout",
     "output_type": "stream",
     "text": [
      "1\n",
      "2\n",
      "3\n",
      "4\n",
      "6\n",
      "7\n",
      "8\n",
      "9\n"
     ]
    }
   ],
   "source": [
    "for i in range(1, 10):\n",
    "    if i == 5:\n",
    "        continue\n",
    "    print(i)"
   ]
  },
  {
   "cell_type": "code",
   "execution_count": 56,
   "id": "8c4e3f04-f629-4295-840f-294ae6466803",
   "metadata": {},
   "outputs": [],
   "source": [
    "# break"
   ]
  },
  {
   "cell_type": "code",
   "execution_count": 58,
   "id": "e98a6c79-d626-4612-aea2-df2d109cd04a",
   "metadata": {},
   "outputs": [
    {
     "name": "stdout",
     "output_type": "stream",
     "text": [
      "1\n",
      "2\n",
      "3\n",
      "4\n"
     ]
    }
   ],
   "source": [
    "for i in range(1, 10):\n",
    "    if i == 5:\n",
    "        break\n",
    "    print(i)"
   ]
  },
  {
   "cell_type": "code",
   "execution_count": 60,
   "id": "1d93dc2b-84f9-4480-944b-cdacee0e6720",
   "metadata": {},
   "outputs": [],
   "source": [
    "# using while loop"
   ]
  },
  {
   "cell_type": "code",
   "execution_count": 66,
   "id": "c96995c3-761b-4093-8119-5b1dd4f41c7f",
   "metadata": {},
   "outputs": [
    {
     "name": "stdout",
     "output_type": "stream",
     "text": [
      "1\n",
      "2\n",
      "3\n",
      "4\n"
     ]
    }
   ],
   "source": [
    "i = 1\n",
    "\n",
    "while i < 10:\n",
    "    if i == 5:\n",
    "        break\n",
    "    print(i)\n",
    "\n",
    "    i += 1"
   ]
  }
 ],
 "metadata": {
  "kernelspec": {
   "display_name": "Python 3 (ipykernel)",
   "language": "python",
   "name": "python3"
  },
  "language_info": {
   "codemirror_mode": {
    "name": "ipython",
    "version": 3
   },
   "file_extension": ".py",
   "mimetype": "text/x-python",
   "name": "python",
   "nbconvert_exporter": "python",
   "pygments_lexer": "ipython3",
   "version": "3.12.4"
  }
 },
 "nbformat": 4,
 "nbformat_minor": 5
}
