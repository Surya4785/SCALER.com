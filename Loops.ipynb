{
 "cells": [
  {
   "cell_type": "code",
   "execution_count": 7,
   "id": "4959dbbd-e7ef-4c1c-af68-b8c65d16d42a",
   "metadata": {},
   "outputs": [],
   "source": [
    "# there are two types of loops in python programming...\n",
    "# for\n",
    "# while"
   ]
  },
  {
   "cell_type": "code",
   "execution_count": 10,
   "id": "60897564-23b9-492b-9d02-5822be5bfd5b",
   "metadata": {},
   "outputs": [],
   "source": [
    "# while loop"
   ]
  },
  {
   "cell_type": "code",
   "execution_count": 13,
   "id": "815a31b8-1fde-41e5-8ae6-0a67b0cf3c5b",
   "metadata": {},
   "outputs": [
    {
     "name": "stdout",
     "output_type": "stream",
     "text": [
      "You are the best!!\n",
      "You are the best!!\n",
      "You are the best!!\n",
      "You are the best!!\n",
      "You are the best!!\n",
      "You are the best!!\n"
     ]
    }
   ],
   "source": [
    "# initialize\n",
    "i = 1\n",
    "\n",
    "# loop condition\n",
    "while i <= 6:\n",
    "    # inside body\n",
    "    print(\"You are the best!!\")\n",
    "\n",
    "    #update\n",
    "    i += 1"
   ]
  },
  {
   "cell_type": "code",
   "execution_count": 16,
   "id": "be062a28-2868-4f8b-9cd9-1fede3482ece",
   "metadata": {},
   "outputs": [],
   "source": [
    "# print all numbers from 1 to 10 using loop.."
   ]
  },
  {
   "cell_type": "code",
   "execution_count": 19,
   "id": "ba58c276-0f31-402b-84fc-fc4ab6cd2088",
   "metadata": {},
   "outputs": [
    {
     "name": "stdout",
     "output_type": "stream",
     "text": [
      "1\n",
      "2\n",
      "3\n",
      "4\n",
      "5\n",
      "6\n",
      "7\n",
      "8\n",
      "9\n",
      "10\n"
     ]
    }
   ],
   "source": [
    "i = 1\n",
    "while i <= 10:\n",
    "    print(i)\n",
    "    i +=1"
   ]
  },
  {
   "cell_type": "code",
   "execution_count": 22,
   "id": "90e89617-ef04-42ec-b28e-97baea03348e",
   "metadata": {},
   "outputs": [],
   "source": [
    "# printing in a single line"
   ]
  },
  {
   "cell_type": "code",
   "execution_count": 24,
   "id": "1e730739-750f-4d94-878a-f22762705ac9",
   "metadata": {},
   "outputs": [
    {
     "name": "stdout",
     "output_type": "stream",
     "text": [
      "1 2 3 4 5 6 7 8 9 10 "
     ]
    }
   ],
   "source": [
    "i = 1\n",
    "while i <= 10:\n",
    "    print(i , end=\" \")\n",
    "    i +=1"
   ]
  },
  {
   "cell_type": "code",
   "execution_count": 26,
   "id": "f22e0442-65e2-4111-a947-8c589d0ffd76",
   "metadata": {},
   "outputs": [],
   "source": [
    "# print an even numbers from 0 to 10."
   ]
  },
  {
   "cell_type": "code",
   "execution_count": null,
   "id": "154255fc-7604-4e21-b0b1-8cfce5c85e5a",
   "metadata": {},
   "outputs": [
    {
     "name": "stdout",
     "output_type": "stream",
     "text": [
      "0 "
     ]
    }
   ],
   "source": [
    "i = 0\n",
    "while i <= 10:\n",
    "    if i % 2 == 0:\n",
    "        print(i , end=\" \")\n",
    "        i +=1"
   ]
  },
  {
   "cell_type": "code",
   "execution_count": null,
   "id": "77bf9f68-a562-4894-b417-616032b27027",
   "metadata": {},
   "outputs": [],
   "source": []
  }
 ],
 "metadata": {
  "kernelspec": {
   "display_name": "Python 3 (ipykernel)",
   "language": "python",
   "name": "python3"
  },
  "language_info": {
   "codemirror_mode": {
    "name": "ipython",
    "version": 3
   },
   "file_extension": ".py",
   "mimetype": "text/x-python",
   "name": "python",
   "nbconvert_exporter": "python",
   "pygments_lexer": "ipython3",
   "version": "3.12.4"
  }
 },
 "nbformat": 4,
 "nbformat_minor": 5
}
