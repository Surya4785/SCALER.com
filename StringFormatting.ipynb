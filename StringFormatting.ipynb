{
 "cells": [
  {
   "cell_type": "code",
   "execution_count": 1,
   "id": "69b606cf-df3a-4db1-a430-f747c4e436de",
   "metadata": {},
   "outputs": [
    {
     "name": "stdin",
     "output_type": "stream",
     "text": [
      " Rahul\n",
      " 25\n"
     ]
    },
    {
     "name": "stdout",
     "output_type": "stream",
     "text": [
      "Hey my name is Rahul And my age is 25\n"
     ]
    }
   ],
   "source": [
    "name = input()\n",
    "age = input()\n",
    "\n",
    "print(\"Hey my name is\", name, \"And my age is\", age)"
   ]
  },
  {
   "cell_type": "code",
   "execution_count": 5,
   "id": "98bd62ba-3d03-4c24-8352-e3cd66236764",
   "metadata": {},
   "outputs": [
    {
     "name": "stdin",
     "output_type": "stream",
     "text": [
      " rahul\n",
      " 25\n"
     ]
    },
    {
     "name": "stdout",
     "output_type": "stream",
     "text": [
      "Hey my name is rahul. My age is 25\n"
     ]
    }
   ],
   "source": [
    "name = input()\n",
    "age = input()\n",
    "\n",
    "print(\"Hey my name is {}. My age is {}\".format(name, age))"
   ]
  },
  {
   "cell_type": "code",
   "execution_count": 7,
   "id": "f5492ae1-ade4-4fba-a223-95c1514216ba",
   "metadata": {},
   "outputs": [],
   "source": [
    "# more advance"
   ]
  },
  {
   "cell_type": "code",
   "execution_count": 19,
   "id": "e578c461-0944-4038-9030-bb53efb71202",
   "metadata": {},
   "outputs": [
    {
     "name": "stdout",
     "output_type": "stream",
     "text": [
      "Hey my name is Rahul. My age is 25.\n"
     ]
    }
   ],
   "source": [
    "name = \"Rahul\"\n",
    "age = 25\n",
    "\n",
    "print(f\"Hey my name is {name}. My age is {age}.\") # f: formated string"
   ]
  },
  {
   "cell_type": "code",
   "execution_count": 21,
   "id": "6cd30db0-5e0b-45b7-9094-0e9221ed882c",
   "metadata": {},
   "outputs": [],
   "source": [
    "# string concatination"
   ]
  },
  {
   "cell_type": "code",
   "execution_count": 23,
   "id": "b35704e5-a553-48a5-a5a7-8dd485f83ac9",
   "metadata": {},
   "outputs": [
    {
     "name": "stdin",
     "output_type": "stream",
     "text": [
      " nawab\n",
      " surya\n"
     ]
    },
    {
     "name": "stdout",
     "output_type": "stream",
     "text": [
      "nawabsurya\n"
     ]
    }
   ],
   "source": [
    "first = input()\n",
    "second = input()\n",
    "\n",
    "print(first + second)"
   ]
  },
  {
   "cell_type": "code",
   "execution_count": 25,
   "id": "452770c0-7ff6-439f-9076-4d6ff747c1ce",
   "metadata": {},
   "outputs": [
    {
     "data": {
      "text/plain": [
       "'2a'"
      ]
     },
     "execution_count": 25,
     "metadata": {},
     "output_type": "execute_result"
    }
   ],
   "source": [
    "\"2\" + \"a\""
   ]
  },
  {
   "cell_type": "code",
   "execution_count": 27,
   "id": "196d344c-232c-4a21-ad7d-ad12258dc69b",
   "metadata": {},
   "outputs": [
    {
     "data": {
      "text/plain": [
       "'aaa'"
      ]
     },
     "execution_count": 27,
     "metadata": {},
     "output_type": "execute_result"
    }
   ],
   "source": [
    "\"a\" + \"a\" + \"a\""
   ]
  },
  {
   "cell_type": "code",
   "execution_count": 29,
   "id": "3936f59a-399c-4424-908b-ed5e2a30bfad",
   "metadata": {},
   "outputs": [
    {
     "data": {
      "text/plain": [
       "'aaa'"
      ]
     },
     "execution_count": 29,
     "metadata": {},
     "output_type": "execute_result"
    }
   ],
   "source": [
    "\"a\" * 3"
   ]
  },
  {
   "cell_type": "code",
   "execution_count": 31,
   "id": "ab044926-57c6-4eb2-abc0-b45a8f15179a",
   "metadata": {},
   "outputs": [
    {
     "data": {
      "text/plain": [
       "'22'"
      ]
     },
     "execution_count": 31,
     "metadata": {},
     "output_type": "execute_result"
    }
   ],
   "source": [
    "\"2\" + \"2\""
   ]
  },
  {
   "cell_type": "code",
   "execution_count": 33,
   "id": "e6ec3ae4-0f0c-43d0-b277-bc49c19ab671",
   "metadata": {},
   "outputs": [
    {
     "data": {
      "text/plain": [
       "4"
      ]
     },
     "execution_count": 33,
     "metadata": {},
     "output_type": "execute_result"
    }
   ],
   "source": [
    "2 + 2"
   ]
  },
  {
   "cell_type": "code",
   "execution_count": 37,
   "id": "35aec4b9-8d09-4463-9b24-45b0e0311270",
   "metadata": {},
   "outputs": [
    {
     "ename": "TypeError",
     "evalue": "can't multiply sequence by non-int of type 'str'",
     "output_type": "error",
     "traceback": [
      "\u001b[1;31m---------------------------------------------------------------------------\u001b[0m",
      "\u001b[1;31mTypeError\u001b[0m                                 Traceback (most recent call last)",
      "Cell \u001b[1;32mIn[37], line 1\u001b[0m\n\u001b[1;32m----> 1\u001b[0m \u001b[38;5;124m\"\u001b[39m\u001b[38;5;124mSurya\u001b[39m\u001b[38;5;124m\"\u001b[39m \u001b[38;5;241m*\u001b[39m \u001b[38;5;124m\"\u001b[39m\u001b[38;5;124mname\u001b[39m\u001b[38;5;124m\"\u001b[39m\n",
      "\u001b[1;31mTypeError\u001b[0m: can't multiply sequence by non-int of type 'str'"
     ]
    }
   ],
   "source": [
    "\"Surya\" * \"name\" # you can not multiply a string with a name"
   ]
  },
  {
   "cell_type": "code",
   "execution_count": 39,
   "id": "16d27e15-916a-44a7-a48b-5646be4a127e",
   "metadata": {},
   "outputs": [],
   "source": [
    "# print all vovels of a given string."
   ]
  },
  {
   "cell_type": "code",
   "execution_count": 41,
   "id": "d85bb8e1-c66e-43dd-87ca-667e36177a0b",
   "metadata": {},
   "outputs": [],
   "source": [
    "text = \"The quick brown fox jumps over the lazy dog\""
   ]
  },
  {
   "cell_type": "code",
   "execution_count": 49,
   "id": "2617a507-aafb-4de0-89ec-3ea8eafeb2f4",
   "metadata": {},
   "outputs": [
    {
     "name": "stdout",
     "output_type": "stream",
     "text": [
      "e u o o u o e e a o "
     ]
    }
   ],
   "source": [
    "for i in text:\n",
    "    # check if i in this iteration is a vowel\n",
    "    if i == \"a\" or i == \"e\" or i == \"o\" or i == \"u\":\n",
    "        print(i, end=\" \")\n",
    "    "
   ]
  },
  {
   "cell_type": "code",
   "execution_count": 51,
   "id": "763755b9-fad0-4bcc-bcf5-0f0ec5748180",
   "metadata": {},
   "outputs": [],
   "source": [
    "# CHALLENGE: Find if a sting is pallindrome or not.\n",
    "# *A string is said to be pallindrome if the reverse of the string is the same as string."
   ]
  },
  {
   "cell_type": "code",
   "execution_count": 55,
   "id": "d20f1f27-0581-4151-aa7b-043d525f75eb",
   "metadata": {},
   "outputs": [
    {
     "name": "stdin",
     "output_type": "stream",
     "text": [
      " radar\n"
     ]
    },
    {
     "name": "stdout",
     "output_type": "stream",
     "text": [
      "Yes\n"
     ]
    }
   ],
   "source": [
    "s = input()\n",
    "\n",
    "# rev is [::-1], using string slicing\n",
    "\n",
    "if s == s[::-1]:\n",
    "    print(\"Yes\")\n",
    "else:\n",
    "    print(\"No\")"
   ]
  }
 ],
 "metadata": {
  "kernelspec": {
   "display_name": "Python 3 (ipykernel)",
   "language": "python",
   "name": "python3"
  },
  "language_info": {
   "codemirror_mode": {
    "name": "ipython",
    "version": 3
   },
   "file_extension": ".py",
   "mimetype": "text/x-python",
   "name": "python",
   "nbconvert_exporter": "python",
   "pygments_lexer": "ipython3",
   "version": "3.12.4"
  }
 },
 "nbformat": 4,
 "nbformat_minor": 5
}
