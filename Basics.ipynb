{
 "cells": [
  {
   "cell_type": "code",
   "execution_count": null,
   "id": "3465b068-e509-4dbd-a6ef-5d97e1d91948",
   "metadata": {},
   "outputs": [],
   "source": [
    "# want to show something as output: Use print function"
   ]
  },
  {
   "cell_type": "code",
   "execution_count": 2,
   "id": "07ca328b-c21d-46c1-8e2c-cbdc410df1b7",
   "metadata": {},
   "outputs": [
    {
     "name": "stdout",
     "output_type": "stream",
     "text": [
      "Hello World\n"
     ]
    }
   ],
   "source": [
    "print(\"Hello World\")"
   ]
  },
  {
   "cell_type": "code",
   "execution_count": 4,
   "id": "af1b9151-db98-4ebc-8652-bc591ddbd480",
   "metadata": {},
   "outputs": [
    {
     "name": "stdout",
     "output_type": "stream",
     "text": [
      "twinkle twinkle little star\n",
      "how i wonder what you are\n",
      "up above the world so high\n",
      "like a diamond in the sky\n"
     ]
    }
   ],
   "source": [
    "print('''twinkle twinkle little star\n",
    "how i wonder what you are\n",
    "up above the world so high\n",
    "like a diamond in the sky''')"
   ]
  },
  {
   "cell_type": "code",
   "execution_count": null,
   "id": "3e0c3891-cbf5-4751-a82b-bb7acd16e30e",
   "metadata": {},
   "outputs": [],
   "source": []
  }
 ],
 "metadata": {
  "kernelspec": {
   "display_name": "Python 3 (ipykernel)",
   "language": "python",
   "name": "python3"
  },
  "language_info": {
   "codemirror_mode": {
    "name": "ipython",
    "version": 3
   },
   "file_extension": ".py",
   "mimetype": "text/x-python",
   "name": "python",
   "nbconvert_exporter": "python",
   "pygments_lexer": "ipython3",
   "version": "3.12.4"
  }
 },
 "nbformat": 4,
 "nbformat_minor": 5
}
