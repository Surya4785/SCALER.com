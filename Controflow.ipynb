{
 "cells": [
  {
   "cell_type": "code",
   "execution_count": 3,
   "id": "ca92bc1b-a3a4-4bf6-97ec-270eb16d8d64",
   "metadata": {},
   "outputs": [],
   "source": [
    "# control flow statement..."
   ]
  },
  {
   "cell_type": "code",
   "execution_count": 7,
   "id": "78b16676-4537-4523-a530-9c49eb0c6df8",
   "metadata": {},
   "outputs": [
    {
     "name": "stdin",
     "output_type": "stream",
     "text": [
      " 18\n"
     ]
    },
    {
     "name": "stdout",
     "output_type": "stream",
     "text": [
      "Wait till you turn 18\n"
     ]
    }
   ],
   "source": [
    "age = int(input())\n",
    "# Now use if else\n",
    "if age > 18:\n",
    "    print(\"You are eligible\")\n",
    "    print(\"Drive slow\")\n",
    "\n",
    "# Else will be executed when if condition is fase\n",
    "else:\n",
    "    print(\"Wait till you turn 18\")"
   ]
  },
  {
   "cell_type": "code",
   "execution_count": 2,
   "id": "ae643dc3-4662-41cd-bdad-70d16a085ee0",
   "metadata": {},
   "outputs": [
    {
     "name": "stdin",
     "output_type": "stream",
     "text": [
      " 45\n"
     ]
    },
    {
     "name": "stdout",
     "output_type": "stream",
     "text": [
      "You are eligible\n",
      "Drive slow\n"
     ]
    }
   ],
   "source": [
    "age = int(input())\n",
    "\n",
    "# check if age is > 18\n",
    "if age > 18:\n",
    "    # if age is >= 65\n",
    "    if age >= 65:\n",
    "        print(\"Take rest\")\n",
    "        # if age is less than 65\n",
    "    else:\n",
    "         print(\"You are eligible\")\n",
    "         print(\"Drive slow\")\n",
    "        # else: age < 18\n",
    "else:\n",
    "    print(\"wait till you turn 18\")\n",
    " "
   ]
  },
  {
   "cell_type": "code",
   "execution_count": null,
   "id": "c7c9eca9-f594-4728-9250-21c2b85c08db",
   "metadata": {},
   "outputs": [],
   "source": []
  }
 ],
 "metadata": {
  "kernelspec": {
   "display_name": "Python 3 (ipykernel)",
   "language": "python",
   "name": "python3"
  },
  "language_info": {
   "codemirror_mode": {
    "name": "ipython",
    "version": 3
   },
   "file_extension": ".py",
   "mimetype": "text/x-python",
   "name": "python",
   "nbconvert_exporter": "python",
   "pygments_lexer": "ipython3",
   "version": "3.12.4"
  }
 },
 "nbformat": 4,
 "nbformat_minor": 5
}
