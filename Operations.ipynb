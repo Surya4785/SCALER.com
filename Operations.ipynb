{
 "cells": [
  {
   "cell_type": "code",
   "execution_count": null,
   "id": "ad5e0d94-f229-4039-9790-2942b9d5305f",
   "metadata": {},
   "outputs": [],
   "source": [
    "# Arithmatic operators..."
   ]
  },
  {
   "cell_type": "code",
   "execution_count": 3,
   "id": "fd088006-f8fc-4af9-b86c-c9dca16286d7",
   "metadata": {},
   "outputs": [
    {
     "data": {
      "text/plain": [
       "8"
      ]
     },
     "execution_count": 3,
     "metadata": {},
     "output_type": "execute_result"
    }
   ],
   "source": [
    "a = 5\n",
    "b = 3\n",
    "a + b"
   ]
  },
  {
   "cell_type": "code",
   "execution_count": 5,
   "id": "4175858a-f94f-434a-93c8-db097fb7bce1",
   "metadata": {},
   "outputs": [
    {
     "data": {
      "text/plain": [
       "2"
      ]
     },
     "execution_count": 5,
     "metadata": {},
     "output_type": "execute_result"
    }
   ],
   "source": [
    "a - b"
   ]
  },
  {
   "cell_type": "code",
   "execution_count": 7,
   "id": "faf11035-2836-4696-9b48-4f7753fdb190",
   "metadata": {},
   "outputs": [
    {
     "data": {
      "text/plain": [
       "1.6666666666666667"
      ]
     },
     "execution_count": 7,
     "metadata": {},
     "output_type": "execute_result"
    }
   ],
   "source": [
    "a / b"
   ]
  },
  {
   "cell_type": "code",
   "execution_count": null,
   "id": "f6a400d7-ab90-43ab-8a3c-4d76504ce201",
   "metadata": {},
   "outputs": [],
   "source": [
    "# Division operator will always yeild float value"
   ]
  },
  {
   "cell_type": "code",
   "execution_count": 9,
   "id": "ca81f267-83e7-453d-be92-d7a34febaec5",
   "metadata": {},
   "outputs": [
    {
     "data": {
      "text/plain": [
       "1.0"
      ]
     },
     "execution_count": 9,
     "metadata": {},
     "output_type": "execute_result"
    }
   ],
   "source": [
    "5 / 5"
   ]
  },
  {
   "cell_type": "code",
   "execution_count": 11,
   "id": "e88bf680-b9c8-41d0-8875-1b11bf3f684d",
   "metadata": {},
   "outputs": [
    {
     "data": {
      "text/plain": [
       "15"
      ]
     },
     "execution_count": 11,
     "metadata": {},
     "output_type": "execute_result"
    }
   ],
   "source": [
    "a * b"
   ]
  },
  {
   "cell_type": "code",
   "execution_count": 13,
   "id": "33739b88-162b-403e-bcf6-7491e9da0387",
   "metadata": {},
   "outputs": [
    {
     "data": {
      "text/plain": [
       "-2"
      ]
     },
     "execution_count": 13,
     "metadata": {},
     "output_type": "execute_result"
    }
   ],
   "source": [
    "b - a"
   ]
  },
  {
   "cell_type": "code",
   "execution_count": 15,
   "id": "6054298b-f2ac-4694-be4e-e88b009194d6",
   "metadata": {},
   "outputs": [
    {
     "data": {
      "text/plain": [
       "2.5"
      ]
     },
     "execution_count": 15,
     "metadata": {},
     "output_type": "execute_result"
    }
   ],
   "source": [
    "1.5 + 1"
   ]
  },
  {
   "cell_type": "code",
   "execution_count": 17,
   "id": "73c41374-4184-4e58-bdfa-219f3b1482a5",
   "metadata": {},
   "outputs": [
    {
     "data": {
      "text/plain": [
       "2.0"
      ]
     },
     "execution_count": 17,
     "metadata": {},
     "output_type": "execute_result"
    }
   ],
   "source": [
    "1.0 + 1.0"
   ]
  },
  {
   "cell_type": "code",
   "execution_count": 25,
   "id": "f88ff70a-30fe-4c79-8032-8b36b88c835a",
   "metadata": {},
   "outputs": [],
   "source": [
    "first = \"Rahul\"\n",
    "last = \"Jahnvi\""
   ]
  },
  {
   "cell_type": "code",
   "execution_count": 27,
   "id": "e2f4927f-1931-4185-839c-53750fe84824",
   "metadata": {},
   "outputs": [],
   "source": [
    "# string concatenation"
   ]
  },
  {
   "cell_type": "code",
   "execution_count": 29,
   "id": "876f2b3d-fe24-44de-8773-886e36457a61",
   "metadata": {},
   "outputs": [
    {
     "name": "stdout",
     "output_type": "stream",
     "text": [
      "RahulJahnvi\n"
     ]
    }
   ],
   "source": [
    "print(first + last)"
   ]
  },
  {
   "cell_type": "code",
   "execution_count": 33,
   "id": "a6c85fca-c7c3-42a4-9b24-ab97c0f93414",
   "metadata": {},
   "outputs": [
    {
     "data": {
      "text/plain": [
       "str"
      ]
     },
     "execution_count": 33,
     "metadata": {},
     "output_type": "execute_result"
    }
   ],
   "source": [
    "type(\"1\")"
   ]
  },
  {
   "cell_type": "code",
   "execution_count": 35,
   "id": "8e32f105-6eaa-43df-bd3f-d1f579c0a748",
   "metadata": {},
   "outputs": [
    {
     "name": "stdout",
     "output_type": "stream",
     "text": [
      "11\n"
     ]
    }
   ],
   "source": [
    "print(\"1\" + \"1\")"
   ]
  },
  {
   "cell_type": "code",
   "execution_count": 39,
   "id": "15ce8e7b-794f-417c-86f9-eff784310c1f",
   "metadata": {},
   "outputs": [
    {
     "data": {
      "text/plain": [
       "'RahulRahulRahul'"
      ]
     },
     "execution_count": 39,
     "metadata": {},
     "output_type": "execute_result"
    }
   ],
   "source": [
    "first * 3"
   ]
  },
  {
   "cell_type": "code",
   "execution_count": 41,
   "id": "5bea6faf-acd9-46ef-b50d-644871b6134d",
   "metadata": {},
   "outputs": [],
   "source": [
    "# note: you can not subtract a string, and can not multipy a string."
   ]
  },
  {
   "cell_type": "code",
   "execution_count": 43,
   "id": "c35f2f37-352b-4a3b-a1c6-50063ba70b1d",
   "metadata": {},
   "outputs": [],
   "source": [
    "# modulus % : it will give remainders"
   ]
  },
  {
   "cell_type": "code",
   "execution_count": 45,
   "id": "7e8a64cd-de58-4cd4-b727-c4e3ae0e3649",
   "metadata": {},
   "outputs": [
    {
     "name": "stdout",
     "output_type": "stream",
     "text": [
      "5 3\n"
     ]
    }
   ],
   "source": [
    "print(a , b)"
   ]
  },
  {
   "cell_type": "code",
   "execution_count": 47,
   "id": "b7d17b28-95e0-40ec-be99-7430e36db06a",
   "metadata": {},
   "outputs": [
    {
     "name": "stdout",
     "output_type": "stream",
     "text": [
      "2\n"
     ]
    }
   ],
   "source": [
    "print(a % b)"
   ]
  },
  {
   "cell_type": "code",
   "execution_count": 49,
   "id": "2009111b-658d-43bc-afe2-6b20009a7340",
   "metadata": {},
   "outputs": [
    {
     "name": "stdout",
     "output_type": "stream",
     "text": [
      "0\n"
     ]
    }
   ],
   "source": [
    "print(10 % 10)"
   ]
  },
  {
   "cell_type": "code",
   "execution_count": 51,
   "id": "8c5abe49-d119-4461-b152-ee0f782582dc",
   "metadata": {},
   "outputs": [],
   "source": [
    "# // in floor division, the result is floored to the nearest smaller integer"
   ]
  },
  {
   "cell_type": "code",
   "execution_count": 53,
   "id": "b91086ed-1075-4333-9e21-4e62d7ad14f1",
   "metadata": {},
   "outputs": [
    {
     "name": "stdout",
     "output_type": "stream",
     "text": [
      "5 3\n"
     ]
    }
   ],
   "source": [
    "print(a , b)"
   ]
  },
  {
   "cell_type": "code",
   "execution_count": 55,
   "id": "f9b2e1d5-3c67-4c45-88ac-9125c591a56c",
   "metadata": {},
   "outputs": [
    {
     "name": "stdout",
     "output_type": "stream",
     "text": [
      "1\n"
     ]
    }
   ],
   "source": [
    "print(a // b)"
   ]
  },
  {
   "cell_type": "code",
   "execution_count": 57,
   "id": "566fb9d1-3afd-46bd-a814-5bd54da62099",
   "metadata": {},
   "outputs": [
    {
     "name": "stdout",
     "output_type": "stream",
     "text": [
      "-2\n"
     ]
    }
   ],
   "source": [
    "print(-3 // 2)"
   ]
  },
  {
   "cell_type": "code",
   "execution_count": 59,
   "id": "0ab8e881-736b-4c29-ae23-eb771062f20b",
   "metadata": {},
   "outputs": [],
   "source": [
    "# to the power accepts two values base and power"
   ]
  },
  {
   "cell_type": "code",
   "execution_count": 61,
   "id": "939291a3-d643-40ca-a71e-33c5ae65af74",
   "metadata": {},
   "outputs": [
    {
     "name": "stdout",
     "output_type": "stream",
     "text": [
      "5 3\n"
     ]
    }
   ],
   "source": [
    "print(a , b)"
   ]
  },
  {
   "cell_type": "code",
   "execution_count": 63,
   "id": "be2a5137-083d-4954-90a0-68f68dd3e6e3",
   "metadata": {},
   "outputs": [
    {
     "name": "stdout",
     "output_type": "stream",
     "text": [
      "125\n"
     ]
    }
   ],
   "source": [
    "print(a ** b)"
   ]
  },
  {
   "cell_type": "code",
   "execution_count": 65,
   "id": "bc3bc4a2-a67d-4e73-bd18-e55f0b6c5c8b",
   "metadata": {},
   "outputs": [
    {
     "name": "stdout",
     "output_type": "stream",
     "text": [
      "8\n"
     ]
    }
   ],
   "source": [
    "print(2 ** 3)"
   ]
  },
  {
   "cell_type": "code",
   "execution_count": 67,
   "id": "d3c28fcc-08d6-45d8-b8cd-ebf5aca45b01",
   "metadata": {},
   "outputs": [
    {
     "name": "stdout",
     "output_type": "stream",
     "text": [
      "1024\n"
     ]
    }
   ],
   "source": [
    "print(4 ** 5)"
   ]
  },
  {
   "cell_type": "code",
   "execution_count": 71,
   "id": "fff47779-c0a8-467b-9906-3c4bec7f35ad",
   "metadata": {},
   "outputs": [],
   "source": [
    "# comparison operators can be used to compare values in mathematical terms."
   ]
  },
  {
   "cell_type": "code",
   "execution_count": 73,
   "id": "a8bd001a-0d65-4cb9-8f50-f5ad75971d59",
   "metadata": {},
   "outputs": [
    {
     "name": "stdout",
     "output_type": "stream",
     "text": [
      "False\n"
     ]
    }
   ],
   "source": [
    "a = 6\n",
    "b = 4\n",
    "print(a == b)"
   ]
  },
  {
   "cell_type": "code",
   "execution_count": 75,
   "id": "d2d0ce32-ec91-4655-819f-adb1c73b114e",
   "metadata": {},
   "outputs": [
    {
     "name": "stdout",
     "output_type": "stream",
     "text": [
      "True\n"
     ]
    }
   ],
   "source": [
    "print(3 == 3)"
   ]
  },
  {
   "cell_type": "code",
   "execution_count": 77,
   "id": "05e60cc0-34cb-4dbc-98a1-7ef8c3f82e52",
   "metadata": {},
   "outputs": [
    {
     "name": "stdout",
     "output_type": "stream",
     "text": [
      "True\n"
     ]
    }
   ],
   "source": [
    "print(a != b)"
   ]
  },
  {
   "cell_type": "code",
   "execution_count": 79,
   "id": "b1e910e0-f8ce-4b2c-bc8e-3255d8ab2f67",
   "metadata": {},
   "outputs": [
    {
     "name": "stdout",
     "output_type": "stream",
     "text": [
      "False\n"
     ]
    }
   ],
   "source": [
    "print(3 != 3)"
   ]
  },
  {
   "cell_type": "code",
   "execution_count": 81,
   "id": "6eb6a18b-ddfb-4de9-af48-fca29976b2f5",
   "metadata": {},
   "outputs": [],
   "source": [
    "# < >"
   ]
  },
  {
   "cell_type": "code",
   "execution_count": 83,
   "id": "8d61ba43-6f59-4b62-8592-240569eb04ec",
   "metadata": {},
   "outputs": [
    {
     "name": "stdout",
     "output_type": "stream",
     "text": [
      "True\n"
     ]
    }
   ],
   "source": [
    "print(a > b)"
   ]
  },
  {
   "cell_type": "code",
   "execution_count": 85,
   "id": "36b7b5f3-2122-47b4-9743-9637ea027b62",
   "metadata": {},
   "outputs": [
    {
     "name": "stdout",
     "output_type": "stream",
     "text": [
      "False\n"
     ]
    }
   ],
   "source": [
    "print(b > a)"
   ]
  },
  {
   "cell_type": "code",
   "execution_count": 87,
   "id": "2bb4a6d8-6a21-473e-b9d5-ff8d98dabd8d",
   "metadata": {},
   "outputs": [
    {
     "name": "stdout",
     "output_type": "stream",
     "text": [
      "True\n"
     ]
    }
   ],
   "source": [
    "print(6 >= 3)"
   ]
  },
  {
   "cell_type": "code",
   "execution_count": 89,
   "id": "046f6710-d02e-411b-85c4-3bfc60b6df1a",
   "metadata": {},
   "outputs": [
    {
     "name": "stdout",
     "output_type": "stream",
     "text": [
      "True\n"
     ]
    }
   ],
   "source": [
    "print(3 >= 3)"
   ]
  },
  {
   "cell_type": "code",
   "execution_count": 91,
   "id": "52e466cb-67d8-4b64-8a4b-a762447dac0d",
   "metadata": {},
   "outputs": [
    {
     "name": "stdout",
     "output_type": "stream",
     "text": [
      "False\n"
     ]
    }
   ],
   "source": [
    "print(2 >= 3)"
   ]
  },
  {
   "cell_type": "code",
   "execution_count": 93,
   "id": "94709700-df26-4489-8de8-37074542210b",
   "metadata": {},
   "outputs": [
    {
     "name": "stdout",
     "output_type": "stream",
     "text": [
      "True\n"
     ]
    }
   ],
   "source": [
    "print(5 <= 5)"
   ]
  },
  {
   "cell_type": "code",
   "execution_count": 95,
   "id": "ad488ffb-2c07-4d80-ae6e-d02f19441809",
   "metadata": {},
   "outputs": [
    {
     "name": "stdout",
     "output_type": "stream",
     "text": [
      "False\n"
     ]
    }
   ],
   "source": [
    "print(6 <= 3)"
   ]
  },
  {
   "cell_type": "code",
   "execution_count": 3,
   "id": "1f3d6223-8aa1-4589-bf92-969522bf4bcd",
   "metadata": {},
   "outputs": [],
   "source": [
    "# assignment operators"
   ]
  },
  {
   "cell_type": "code",
   "execution_count": 16,
   "id": "87df34bb-3530-4cbc-9097-9674311ae1f5",
   "metadata": {},
   "outputs": [
    {
     "name": "stdout",
     "output_type": "stream",
     "text": [
      "8\n"
     ]
    }
   ],
   "source": [
    "a = 5\n",
    "a = a + 3\n",
    "print(a)\n"
   ]
  },
  {
   "cell_type": "code",
   "execution_count": 18,
   "id": "d3190692-be03-4a5e-8d0b-5936f38932da",
   "metadata": {},
   "outputs": [],
   "source": [
    "# a = a + 3 is same as a += 3"
   ]
  },
  {
   "cell_type": "code",
   "execution_count": 22,
   "id": "06ec1f27-a646-4ffe-9fb1-dd52881366a9",
   "metadata": {},
   "outputs": [
    {
     "name": "stdout",
     "output_type": "stream",
     "text": [
      "11\n"
     ]
    }
   ],
   "source": [
    " a += 3\n",
    "print(a)"
   ]
  },
  {
   "cell_type": "code",
   "execution_count": 26,
   "id": "e3877c24-db0c-4ab6-b92c-414442321586",
   "metadata": {},
   "outputs": [
    {
     "name": "stdout",
     "output_type": "stream",
     "text": [
      "3\n"
     ]
    }
   ],
   "source": [
    "a -= 4\n",
    "print(a)"
   ]
  },
  {
   "cell_type": "code",
   "execution_count": 28,
   "id": "8ad929b1-1dfd-4dc1-b8bc-9950ecf7281e",
   "metadata": {},
   "outputs": [
    {
     "name": "stdout",
     "output_type": "stream",
     "text": [
      "1.5\n"
     ]
    }
   ],
   "source": [
    "a /= 2 #same as a = a / 2\n",
    "print(a)\n"
   ]
  },
  {
   "cell_type": "code",
   "execution_count": 58,
   "id": "7b6437c9-8f2e-4741-adef-2cabdcb4de75",
   "metadata": {},
   "outputs": [],
   "source": [
    "# logical operators and,or and not"
   ]
  },
  {
   "cell_type": "code",
   "execution_count": 32,
   "id": "6435b6dc-63d1-4791-bcad-7d918290ab70",
   "metadata": {},
   "outputs": [],
   "source": [
    "# and"
   ]
  },
  {
   "cell_type": "code",
   "execution_count": 34,
   "id": "469a84ea-7b73-426d-a76d-3b62ca89df92",
   "metadata": {},
   "outputs": [
    {
     "data": {
      "text/plain": [
       "True"
      ]
     },
     "execution_count": 34,
     "metadata": {},
     "output_type": "execute_result"
    }
   ],
   "source": [
    "True and True"
   ]
  },
  {
   "cell_type": "code",
   "execution_count": 36,
   "id": "99958f7d-a108-425d-be9d-27ee37604d15",
   "metadata": {},
   "outputs": [
    {
     "data": {
      "text/plain": [
       "False"
      ]
     },
     "execution_count": 36,
     "metadata": {},
     "output_type": "execute_result"
    }
   ],
   "source": [
    "True and False"
   ]
  },
  {
   "cell_type": "code",
   "execution_count": 38,
   "id": "1510a250-b11a-448f-8f6d-40efcd2e4d0e",
   "metadata": {},
   "outputs": [
    {
     "data": {
      "text/plain": [
       "False"
      ]
     },
     "execution_count": 38,
     "metadata": {},
     "output_type": "execute_result"
    }
   ],
   "source": [
    "False and True"
   ]
  },
  {
   "cell_type": "code",
   "execution_count": 40,
   "id": "23fc63dc-e486-4acb-b853-b72f074eddee",
   "metadata": {},
   "outputs": [
    {
     "data": {
      "text/plain": [
       "False"
      ]
     },
     "execution_count": 40,
     "metadata": {},
     "output_type": "execute_result"
    }
   ],
   "source": [
    "False and False"
   ]
  },
  {
   "cell_type": "code",
   "execution_count": 50,
   "id": "6e44d82e-2b97-4279-8720-9c28b2a04983",
   "metadata": {},
   "outputs": [
    {
     "data": {
      "text/plain": [
       "False"
      ]
     },
     "execution_count": 50,
     "metadata": {},
     "output_type": "execute_result"
    }
   ],
   "source": [
    "2 > 3"
   ]
  },
  {
   "cell_type": "code",
   "execution_count": 52,
   "id": "b8657daf-9a4d-4a95-8e79-2c97a1742f1f",
   "metadata": {},
   "outputs": [
    {
     "data": {
      "text/plain": [
       "True"
      ]
     },
     "execution_count": 52,
     "metadata": {},
     "output_type": "execute_result"
    }
   ],
   "source": [
    "3 > 2"
   ]
  },
  {
   "cell_type": "code",
   "execution_count": 54,
   "id": "57984b61-d606-4522-8269-1308b321fe6a",
   "metadata": {},
   "outputs": [
    {
     "data": {
      "text/plain": [
       "False"
      ]
     },
     "execution_count": 54,
     "metadata": {},
     "output_type": "execute_result"
    }
   ],
   "source": [
    "2 > 3 and 3 > 2"
   ]
  },
  {
   "cell_type": "code",
   "execution_count": 56,
   "id": "a4be9441-dc30-4293-841f-75b17dc3c53e",
   "metadata": {},
   "outputs": [
    {
     "data": {
      "text/plain": [
       "True"
      ]
     },
     "execution_count": 56,
     "metadata": {},
     "output_type": "execute_result"
    }
   ],
   "source": [
    "4 > 3 and 3 > 2"
   ]
  },
  {
   "cell_type": "code",
   "execution_count": 60,
   "id": "0b25e401-6a66-4cc2-8a96-d933af55bb9b",
   "metadata": {},
   "outputs": [],
   "source": [
    "# or"
   ]
  },
  {
   "cell_type": "code",
   "execution_count": 62,
   "id": "d9eba46e-89ad-4fab-8a41-6083cd035a5e",
   "metadata": {},
   "outputs": [
    {
     "data": {
      "text/plain": [
       "True"
      ]
     },
     "execution_count": 62,
     "metadata": {},
     "output_type": "execute_result"
    }
   ],
   "source": [
    "True or True"
   ]
  },
  {
   "cell_type": "code",
   "execution_count": 64,
   "id": "0e7693e4-ef29-4355-bbd3-914a7cba4fad",
   "metadata": {},
   "outputs": [
    {
     "data": {
      "text/plain": [
       "True"
      ]
     },
     "execution_count": 64,
     "metadata": {},
     "output_type": "execute_result"
    }
   ],
   "source": [
    "True or False"
   ]
  },
  {
   "cell_type": "code",
   "execution_count": 66,
   "id": "3d4fda62-c2c4-4776-b13e-fa4dcc7dfb58",
   "metadata": {},
   "outputs": [
    {
     "data": {
      "text/plain": [
       "False"
      ]
     },
     "execution_count": 66,
     "metadata": {},
     "output_type": "execute_result"
    }
   ],
   "source": [
    "False or False"
   ]
  },
  {
   "cell_type": "code",
   "execution_count": 68,
   "id": "61c720e6-2dca-484b-b71f-b7c8cd45eded",
   "metadata": {},
   "outputs": [
    {
     "data": {
      "text/plain": [
       "True"
      ]
     },
     "execution_count": 68,
     "metadata": {},
     "output_type": "execute_result"
    }
   ],
   "source": [
    "False or True"
   ]
  },
  {
   "cell_type": "code",
   "execution_count": 70,
   "id": "e7097a53-f89b-4482-ba27-fe17bb096a94",
   "metadata": {},
   "outputs": [
    {
     "data": {
      "text/plain": [
       "True"
      ]
     },
     "execution_count": 70,
     "metadata": {},
     "output_type": "execute_result"
    }
   ],
   "source": [
    "3 > 2"
   ]
  },
  {
   "cell_type": "code",
   "execution_count": 74,
   "id": "3f8da104-e5e4-4c6c-b4b7-91f65b44e957",
   "metadata": {},
   "outputs": [
    {
     "data": {
      "text/plain": [
       "False"
      ]
     },
     "execution_count": 74,
     "metadata": {},
     "output_type": "execute_result"
    }
   ],
   "source": [
    "3 < 2"
   ]
  },
  {
   "cell_type": "code",
   "execution_count": 76,
   "id": "d3ab017b-be5b-4dd7-a899-b6b37f33674e",
   "metadata": {},
   "outputs": [
    {
     "data": {
      "text/plain": [
       "True"
      ]
     },
     "execution_count": 76,
     "metadata": {},
     "output_type": "execute_result"
    }
   ],
   "source": [
    "3 > 2 or 2 > 3"
   ]
  },
  {
   "cell_type": "code",
   "execution_count": 78,
   "id": "50f566b1-1b7d-44f9-9f13-6f5a3202d7ed",
   "metadata": {},
   "outputs": [
    {
     "data": {
      "text/plain": [
       "False"
      ]
     },
     "execution_count": 78,
     "metadata": {},
     "output_type": "execute_result"
    }
   ],
   "source": [
    "2 > 3 or 2 > 3"
   ]
  },
  {
   "cell_type": "code",
   "execution_count": 80,
   "id": "44feb1c0-ce42-4de5-bf76-6ba8a5223468",
   "metadata": {},
   "outputs": [],
   "source": [
    "# not"
   ]
  },
  {
   "cell_type": "code",
   "execution_count": 82,
   "id": "c6a4b773-8e15-4844-a523-5acf6f8e4a0c",
   "metadata": {},
   "outputs": [
    {
     "data": {
      "text/plain": [
       "False"
      ]
     },
     "execution_count": 82,
     "metadata": {},
     "output_type": "execute_result"
    }
   ],
   "source": [
    "not True"
   ]
  },
  {
   "cell_type": "code",
   "execution_count": 84,
   "id": "3dadaf45-d7d6-477e-b085-146f557a1994",
   "metadata": {},
   "outputs": [
    {
     "data": {
      "text/plain": [
       "True"
      ]
     },
     "execution_count": 84,
     "metadata": {},
     "output_type": "execute_result"
    }
   ],
   "source": [
    "not False"
   ]
  },
  {
   "cell_type": "code",
   "execution_count": 86,
   "id": "0a8abd72-a700-4ebd-a10e-439c37df42a3",
   "metadata": {},
   "outputs": [
    {
     "data": {
      "text/plain": [
       "False"
      ]
     },
     "execution_count": 86,
     "metadata": {},
     "output_type": "execute_result"
    }
   ],
   "source": [
    "2 > 3"
   ]
  },
  {
   "cell_type": "code",
   "execution_count": 88,
   "id": "4a75d079-d347-44f7-8135-47b10004bd63",
   "metadata": {},
   "outputs": [
    {
     "data": {
      "text/plain": [
       "True"
      ]
     },
     "execution_count": 88,
     "metadata": {},
     "output_type": "execute_result"
    }
   ],
   "source": [
    "not 2 > 3"
   ]
  },
  {
   "cell_type": "code",
   "execution_count": 90,
   "id": "a328397f-442c-4488-961d-364d25119adc",
   "metadata": {},
   "outputs": [
    {
     "data": {
      "text/plain": [
       "False"
      ]
     },
     "execution_count": 90,
     "metadata": {},
     "output_type": "execute_result"
    }
   ],
   "source": [
    "not 3 > 2"
   ]
  },
  {
   "cell_type": "code",
   "execution_count": 96,
   "id": "60811f1d-f2be-4a2b-817c-217afb9cf744",
   "metadata": {},
   "outputs": [],
   "source": [
    "# Special opersators\n",
    "# in operator\n",
    "# is operator"
   ]
  },
  {
   "cell_type": "code",
   "execution_count": 94,
   "id": "b0795640-e7fa-4131-8923-491c305f4e09",
   "metadata": {},
   "outputs": [],
   "source": [
    "# in operator tells you if an object is a part of otheer object or not "
   ]
  },
  {
   "cell_type": "code",
   "execution_count": 98,
   "id": "841957b5-1aa1-46d4-9534-fb96db4d1ebd",
   "metadata": {},
   "outputs": [],
   "source": [
    "name = \"Rahul Jain\""
   ]
  },
  {
   "cell_type": "code",
   "execution_count": 100,
   "id": "21dda72d-f53a-46c7-b470-76c3db672c74",
   "metadata": {},
   "outputs": [
    {
     "data": {
      "text/plain": [
       "True"
      ]
     },
     "execution_count": 100,
     "metadata": {},
     "output_type": "execute_result"
    }
   ],
   "source": [
    "\"R\" in name"
   ]
  },
  {
   "cell_type": "code",
   "execution_count": 102,
   "id": "65c014ed-139f-48ea-b2ec-3ba7bca801c4",
   "metadata": {},
   "outputs": [
    {
     "data": {
      "text/plain": [
       "False"
      ]
     },
     "execution_count": 102,
     "metadata": {},
     "output_type": "execute_result"
    }
   ],
   "source": [
    "\"r\" in name"
   ]
  },
  {
   "cell_type": "code",
   "execution_count": 104,
   "id": "54f57bb5-6a89-4430-9ac6-4f5a0f8f6ad6",
   "metadata": {},
   "outputs": [
    {
     "data": {
      "text/plain": [
       "True"
      ]
     },
     "execution_count": 104,
     "metadata": {},
     "output_type": "execute_result"
    }
   ],
   "source": [
    "\"Rahul\" in name"
   ]
  },
  {
   "cell_type": "code",
   "execution_count": 106,
   "id": "e062439c-7c3e-47a6-9c90-b5d7e95d97c0",
   "metadata": {},
   "outputs": [
    {
     "data": {
      "text/plain": [
       "False"
      ]
     },
     "execution_count": 106,
     "metadata": {},
     "output_type": "execute_result"
    }
   ],
   "source": [
    "\"Yadav\" in name"
   ]
  },
  {
   "cell_type": "code",
   "execution_count": 108,
   "id": "547716b0-4d20-4bce-8359-c7537ac2749f",
   "metadata": {},
   "outputs": [],
   "source": [
    "# is operator tells you if both the object are at same memory location?"
   ]
  },
  {
   "cell_type": "code",
   "execution_count": 110,
   "id": "70b57d75-3b81-45f8-aa07-99cc9366b6c9",
   "metadata": {},
   "outputs": [
    {
     "name": "stdout",
     "output_type": "stream",
     "text": [
      "140717187873336 140717187873336\n"
     ]
    }
   ],
   "source": [
    "a = 5\n",
    "b = 5\n",
    "print(id(a), id(b))"
   ]
  },
  {
   "cell_type": "code",
   "execution_count": 112,
   "id": "8456c999-5aee-4dd3-b94c-8499816b1895",
   "metadata": {},
   "outputs": [
    {
     "data": {
      "text/plain": [
       "True"
      ]
     },
     "execution_count": 112,
     "metadata": {},
     "output_type": "execute_result"
    }
   ],
   "source": [
    "a is b"
   ]
  },
  {
   "cell_type": "code",
   "execution_count": 114,
   "id": "96b1e689-c23a-4ec7-99bb-b10438c2a1eb",
   "metadata": {},
   "outputs": [
    {
     "name": "stdout",
     "output_type": "stream",
     "text": [
      "140717187874264 140717187874616\n"
     ]
    }
   ],
   "source": [
    "a = 34\n",
    "b = 45\n",
    "print(id(a), id(b))"
   ]
  },
  {
   "cell_type": "code",
   "execution_count": 116,
   "id": "db15d044-43dd-4d3a-b6af-e3d546efad5a",
   "metadata": {},
   "outputs": [
    {
     "data": {
      "text/plain": [
       "False"
      ]
     },
     "execution_count": 116,
     "metadata": {},
     "output_type": "execute_result"
    }
   ],
   "source": [
    "a is b"
   ]
  },
  {
   "cell_type": "code",
   "execution_count": 120,
   "id": "a21d4c9b-b98f-44c3-b530-57e5c6bd7aef",
   "metadata": {},
   "outputs": [
    {
     "name": "stdout",
     "output_type": "stream",
     "text": [
      "<class 'float'>\n"
     ]
    }
   ],
   "source": [
    "print(type(6/3))"
   ]
  },
  {
   "cell_type": "code",
   "execution_count": 124,
   "id": "4c87817b-e668-44af-bafe-0d21a5fe0334",
   "metadata": {},
   "outputs": [
    {
     "name": "stdout",
     "output_type": "stream",
     "text": [
      "1\n"
     ]
    }
   ],
   "source": [
    "print(0 or 1)"
   ]
  },
  {
   "cell_type": "code",
   "execution_count": null,
   "id": "8cce474e-d9a8-4def-9b58-d02955d0e4d5",
   "metadata": {},
   "outputs": [],
   "source": []
  }
 ],
 "metadata": {
  "kernelspec": {
   "display_name": "Python 3 (ipykernel)",
   "language": "python",
   "name": "python3"
  },
  "language_info": {
   "codemirror_mode": {
    "name": "ipython",
    "version": 3
   },
   "file_extension": ".py",
   "mimetype": "text/x-python",
   "name": "python",
   "nbconvert_exporter": "python",
   "pygments_lexer": "ipython3",
   "version": "3.12.4"
  }
 },
 "nbformat": 4,
 "nbformat_minor": 5
}
