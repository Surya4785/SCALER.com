{
 "cells": [
  {
   "cell_type": "code",
   "execution_count": 5,
   "id": "326c9887-a35b-4630-b828-8f87395dccfd",
   "metadata": {},
   "outputs": [],
   "source": [
    "# String Methods*\n",
    "\n",
    "# capitalize\n",
    "# title\n",
    "# upper\n",
    "# lower\n",
    "# find\n",
    "# count\n",
    "# index\n",
    "# replace\n",
    "# split\n",
    "# islower\n",
    "# isupper\n",
    "# isnumaric\n",
    "# isalpha"
   ]
  },
  {
   "cell_type": "code",
   "execution_count": 9,
   "id": "789b4d89-590c-4d68-a9e0-9ef5c5ed78b5",
   "metadata": {},
   "outputs": [],
   "source": [
    "name = \"rahul janghu\""
   ]
  },
  {
   "cell_type": "code",
   "execution_count": 11,
   "id": "be2c784a-6d00-447c-8b4a-e4bc93ec3eed",
   "metadata": {},
   "outputs": [
    {
     "data": {
      "text/plain": [
       "'Rahul janghu'"
      ]
     },
     "execution_count": 11,
     "metadata": {},
     "output_type": "execute_result"
    }
   ],
   "source": [
    "name.capitalize()"
   ]
  },
  {
   "cell_type": "code",
   "execution_count": 13,
   "id": "13958636-a0c8-4493-8ecf-49a39296392e",
   "metadata": {},
   "outputs": [
    {
     "data": {
      "text/plain": [
       "'Rahul Janghu'"
      ]
     },
     "execution_count": 13,
     "metadata": {},
     "output_type": "execute_result"
    }
   ],
   "source": [
    "name.title()"
   ]
  },
  {
   "cell_type": "code",
   "execution_count": 15,
   "id": "146abf65-24fc-44aa-a1f0-2dc530ce8952",
   "metadata": {},
   "outputs": [],
   "source": [
    "name1 = name.title()"
   ]
  },
  {
   "cell_type": "code",
   "execution_count": 17,
   "id": "1daf7372-c177-423c-9568-e94c326fc907",
   "metadata": {},
   "outputs": [
    {
     "data": {
      "text/plain": [
       "'Rahul Janghu'"
      ]
     },
     "execution_count": 17,
     "metadata": {},
     "output_type": "execute_result"
    }
   ],
   "source": [
    "name1"
   ]
  },
  {
   "cell_type": "code",
   "execution_count": 19,
   "id": "acbfe05e-56ad-4b50-b8c6-e8ab2ba60f0e",
   "metadata": {},
   "outputs": [
    {
     "data": {
      "text/plain": [
       "'rahul janghu'"
      ]
     },
     "execution_count": 19,
     "metadata": {},
     "output_type": "execute_result"
    }
   ],
   "source": [
    "name"
   ]
  },
  {
   "cell_type": "code",
   "execution_count": 21,
   "id": "ecceed10-895b-496d-b57e-7f40448a7306",
   "metadata": {},
   "outputs": [
    {
     "data": {
      "text/plain": [
       "'RAHUL JANGHU'"
      ]
     },
     "execution_count": 21,
     "metadata": {},
     "output_type": "execute_result"
    }
   ],
   "source": [
    "name.upper()"
   ]
  },
  {
   "cell_type": "code",
   "execution_count": 23,
   "id": "28523593-197a-4f02-b5bc-45b2d1da69a9",
   "metadata": {},
   "outputs": [
    {
     "data": {
      "text/plain": [
       "'rahul janghu'"
      ]
     },
     "execution_count": 23,
     "metadata": {},
     "output_type": "execute_result"
    }
   ],
   "source": [
    "name.lower()"
   ]
  },
  {
   "cell_type": "code",
   "execution_count": 27,
   "id": "232267a6-e0a2-4925-a26a-411a6dc311a7",
   "metadata": {},
   "outputs": [
    {
     "data": {
      "text/plain": [
       "1"
      ]
     },
     "execution_count": 27,
     "metadata": {},
     "output_type": "execute_result"
    }
   ],
   "source": [
    "name.find(\"a\") # by default it gives the lowest indexing"
   ]
  },
  {
   "cell_type": "code",
   "execution_count": 29,
   "id": "49d77afe-ebec-4850-a281-0189e000e9db",
   "metadata": {},
   "outputs": [
    {
     "data": {
      "text/plain": [
       "2"
      ]
     },
     "execution_count": 29,
     "metadata": {},
     "output_type": "execute_result"
    }
   ],
   "source": [
    "name.count(\"a\")"
   ]
  },
  {
   "cell_type": "code",
   "execution_count": 31,
   "id": "86382df8-1c2c-41c5-843c-1f8e6a0a3a71",
   "metadata": {},
   "outputs": [
    {
     "data": {
      "text/plain": [
       "0"
      ]
     },
     "execution_count": 31,
     "metadata": {},
     "output_type": "execute_result"
    }
   ],
   "source": [
    "name.count(\"S\")"
   ]
  },
  {
   "cell_type": "code",
   "execution_count": 33,
   "id": "f38986ca-c85e-4f67-9fd8-4edd8e60b901",
   "metadata": {},
   "outputs": [
    {
     "data": {
      "text/plain": [
       "1"
      ]
     },
     "execution_count": 33,
     "metadata": {},
     "output_type": "execute_result"
    }
   ],
   "source": [
    "name.index(\"a\")"
   ]
  },
  {
   "cell_type": "code",
   "execution_count": 35,
   "id": "d1429c6c-802b-474c-a58f-c04b3a113560",
   "metadata": {},
   "outputs": [
    {
     "data": {
      "text/plain": [
       "'rAhul jAnghu'"
      ]
     },
     "execution_count": 35,
     "metadata": {},
     "output_type": "execute_result"
    }
   ],
   "source": [
    "name.replace(\"a\",\"A\")"
   ]
  },
  {
   "cell_type": "code",
   "execution_count": 37,
   "id": "e34b2610-1149-49f6-8daa-918ca3c1b6fc",
   "metadata": {},
   "outputs": [
    {
     "data": {
      "text/plain": [
       "'rahul janghu'"
      ]
     },
     "execution_count": 37,
     "metadata": {},
     "output_type": "execute_result"
    }
   ],
   "source": [
    "name"
   ]
  },
  {
   "cell_type": "code",
   "execution_count": 39,
   "id": "798df1b4-e459-4132-9cbf-bc6aa6501634",
   "metadata": {},
   "outputs": [
    {
     "data": {
      "text/plain": [
       "['rahul', 'janghu']"
      ]
     },
     "execution_count": 39,
     "metadata": {},
     "output_type": "execute_result"
    }
   ],
   "source": [
    "name.split()"
   ]
  },
  {
   "cell_type": "code",
   "execution_count": 41,
   "id": "31fc05cb-04cd-4cfb-8808-ca185a799743",
   "metadata": {},
   "outputs": [
    {
     "data": {
      "text/plain": [
       "['r', 'hul j', 'nghu']"
      ]
     },
     "execution_count": 41,
     "metadata": {},
     "output_type": "execute_result"
    }
   ],
   "source": [
    "name.split(\"a\")"
   ]
  },
  {
   "cell_type": "code",
   "execution_count": 43,
   "id": "f6c07eac-8787-4205-be9e-f02e32cfe5f7",
   "metadata": {},
   "outputs": [],
   "source": [
    "# isupper"
   ]
  },
  {
   "cell_type": "code",
   "execution_count": 45,
   "id": "6c1fa712-3db6-4453-a2f4-0c78f4530d95",
   "metadata": {},
   "outputs": [],
   "source": [
    "name = \"Rahul\""
   ]
  },
  {
   "cell_type": "code",
   "execution_count": 47,
   "id": "1a83ca37-00cc-47fe-96da-5f43c26391cf",
   "metadata": {},
   "outputs": [
    {
     "data": {
      "text/plain": [
       "False"
      ]
     },
     "execution_count": 47,
     "metadata": {},
     "output_type": "execute_result"
    }
   ],
   "source": [
    "name.isupper()"
   ]
  },
  {
   "cell_type": "code",
   "execution_count": 51,
   "id": "215048c0-e7a8-49ff-99fc-2c9e67cee305",
   "metadata": {},
   "outputs": [
    {
     "data": {
      "text/plain": [
       "True"
      ]
     },
     "execution_count": 51,
     "metadata": {},
     "output_type": "execute_result"
    }
   ],
   "source": [
    "\"R\".isupper()"
   ]
  },
  {
   "cell_type": "code",
   "execution_count": 53,
   "id": "a01ca196-ccd6-40e6-9e7a-b4fd53bca8f2",
   "metadata": {},
   "outputs": [],
   "source": [
    "# islower"
   ]
  },
  {
   "cell_type": "code",
   "execution_count": 57,
   "id": "84925cb7-4767-4a71-8777-eb7dc246123e",
   "metadata": {},
   "outputs": [
    {
     "data": {
      "text/plain": [
       "False"
      ]
     },
     "execution_count": 57,
     "metadata": {},
     "output_type": "execute_result"
    }
   ],
   "source": [
    "name.isupper()"
   ]
  },
  {
   "cell_type": "code",
   "execution_count": 61,
   "id": "e286e5a9-b24d-4fd4-a431-540542480375",
   "metadata": {},
   "outputs": [
    {
     "data": {
      "text/plain": [
       "True"
      ]
     },
     "execution_count": 61,
     "metadata": {},
     "output_type": "execute_result"
    }
   ],
   "source": [
    "\"rahul\".islower()"
   ]
  },
  {
   "cell_type": "code",
   "execution_count": null,
   "id": "b53bf897-a0e5-401f-9484-fdffc92f5f18",
   "metadata": {},
   "outputs": [],
   "source": []
  },
  {
   "cell_type": "code",
   "execution_count": 64,
   "id": "10dd9f5f-4e03-4886-88db-7959055e1992",
   "metadata": {},
   "outputs": [],
   "source": [
    "# isnumeric"
   ]
  },
  {
   "cell_type": "code",
   "execution_count": 66,
   "id": "bc1bd21b-0a5c-4b00-a608-d6cf0c469552",
   "metadata": {},
   "outputs": [
    {
     "data": {
      "text/plain": [
       "True"
      ]
     },
     "execution_count": 66,
     "metadata": {},
     "output_type": "execute_result"
    }
   ],
   "source": [
    "\"2\".isnumeric()"
   ]
  },
  {
   "cell_type": "code",
   "execution_count": 68,
   "id": "3a66d523-4c4e-4965-be3a-fc84383c3376",
   "metadata": {},
   "outputs": [
    {
     "data": {
      "text/plain": [
       "False"
      ]
     },
     "execution_count": 68,
     "metadata": {},
     "output_type": "execute_result"
    }
   ],
   "source": [
    "\"2ln\".isnumeric()"
   ]
  },
  {
   "cell_type": "code",
   "execution_count": 70,
   "id": "b62fb9fd-b286-434e-9d7b-c6ec42d219d6",
   "metadata": {},
   "outputs": [],
   "source": [
    "# isalpha"
   ]
  },
  {
   "cell_type": "code",
   "execution_count": 72,
   "id": "2f06cf32-9e95-4320-8a28-8050682add5e",
   "metadata": {},
   "outputs": [
    {
     "data": {
      "text/plain": [
       "True"
      ]
     },
     "execution_count": 72,
     "metadata": {},
     "output_type": "execute_result"
    }
   ],
   "source": [
    "name.isalpha()"
   ]
  },
  {
   "cell_type": "code",
   "execution_count": 74,
   "id": "9ba80494-ab3e-48a4-95f6-b4456631b354",
   "metadata": {},
   "outputs": [
    {
     "data": {
      "text/plain": [
       "'Rahul'"
      ]
     },
     "execution_count": 74,
     "metadata": {},
     "output_type": "execute_result"
    }
   ],
   "source": [
    "name"
   ]
  },
  {
   "cell_type": "code",
   "execution_count": 78,
   "id": "fb89ae10-87af-413e-9676-7f53ac7467df",
   "metadata": {},
   "outputs": [
    {
     "data": {
      "text/plain": [
       "False"
      ]
     },
     "execution_count": 78,
     "metadata": {},
     "output_type": "execute_result"
    }
   ],
   "source": [
    "\"Rahul Janghu\".isalpha() # because it contains space character"
   ]
  }
 ],
 "metadata": {
  "kernelspec": {
   "display_name": "Python 3 (ipykernel)",
   "language": "python",
   "name": "python3"
  },
  "language_info": {
   "codemirror_mode": {
    "name": "ipython",
    "version": 3
   },
   "file_extension": ".py",
   "mimetype": "text/x-python",
   "name": "python",
   "nbconvert_exporter": "python",
   "pygments_lexer": "ipython3",
   "version": "3.12.4"
  }
 },
 "nbformat": 4,
 "nbformat_minor": 5
}
