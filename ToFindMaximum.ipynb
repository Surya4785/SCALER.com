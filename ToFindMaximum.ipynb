{
 "cells": [
  {
   "cell_type": "code",
   "execution_count": 1,
   "id": "d835547d-e285-4e51-a1b1-13bf04cdd044",
   "metadata": {},
   "outputs": [],
   "source": [
    "# Given marks of students in a class. Find topper of the class.\n",
    "# Consider that list is non-empty"
   ]
  },
  {
   "cell_type": "code",
   "execution_count": 3,
   "id": "232fa00c-91fa-45f1-b2aa-93b924b370ef",
   "metadata": {},
   "outputs": [],
   "source": [
    "marks = [90, 30, 100, 50, 80, 95]"
   ]
  },
  {
   "cell_type": "code",
   "execution_count": null,
   "id": "61a7fb4a-c94c-463a-b7fc-5134682b164e",
   "metadata": {},
   "outputs": [],
   "source": [
    "# iterate on the list\n",
    "\n",
    "highest = marks[0]\n",
    "for i in marks:\n",
    "    # check the condition\n",
    "    if i > highest:\n",
    "        highest = i\n",
    "\n",
    "print(highest)"
   ]
  }
 ],
 "metadata": {
  "kernelspec": {
   "display_name": "Python 3 (ipykernel)",
   "language": "python",
   "name": "python3"
  },
  "language_info": {
   "codemirror_mode": {
    "name": "ipython",
    "version": 3
   },
   "file_extension": ".py",
   "mimetype": "text/x-python",
   "name": "python",
   "nbconvert_exporter": "python",
   "pygments_lexer": "ipython3",
   "version": "3.12.4"
  }
 },
 "nbformat": 4,
 "nbformat_minor": 5
}
