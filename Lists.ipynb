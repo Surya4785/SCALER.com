{
 "cells": [
  {
   "cell_type": "code",
   "execution_count": 3,
   "id": "7af838dc-2714-4357-bf88-aa7be2f6278e",
   "metadata": {},
   "outputs": [],
   "source": [
    "# Data Structures\n",
    "# A Data Structure is a specialized format for organizing, processing, retrieving and sorting data. "
   ]
  },
  {
   "cell_type": "code",
   "execution_count": 5,
   "id": "083e14cd-6038-46c8-9fa2-111d10d054bf",
   "metadata": {},
   "outputs": [],
   "source": [
    "# types of data structures.\n",
    "# Lists\n",
    "# Dictionories\n",
    "# Sets\n",
    "# Tuples"
   ]
  },
  {
   "cell_type": "code",
   "execution_count": 7,
   "id": "78731b17-1b25-457e-b207-fa2c730d8e6a",
   "metadata": {},
   "outputs": [],
   "source": [
    "# create a list"
   ]
  },
  {
   "cell_type": "code",
   "execution_count": 9,
   "id": "403076f9-cfb6-43c0-9a75-dddefc6a6e62",
   "metadata": {},
   "outputs": [
    {
     "name": "stdout",
     "output_type": "stream",
     "text": [
      "<class 'list'>\n"
     ]
    }
   ],
   "source": [
    "l = list()\n",
    "print(type(l))"
   ]
  },
  {
   "cell_type": "code",
   "execution_count": 13,
   "id": "6acf2186-4edc-4c7c-aedd-5397bc09db07",
   "metadata": {},
   "outputs": [
    {
     "data": {
      "text/plain": [
       "list"
      ]
     },
     "execution_count": 13,
     "metadata": {},
     "output_type": "execute_result"
    }
   ],
   "source": [
    "l1 = [1, 3, 5, 2]\n",
    "type(l1)"
   ]
  },
  {
   "cell_type": "code",
   "execution_count": 17,
   "id": "1c54643e-3025-4996-a349-bfe64f311c25",
   "metadata": {},
   "outputs": [
    {
     "data": {
      "text/plain": [
       "4"
      ]
     },
     "execution_count": 17,
     "metadata": {},
     "output_type": "execute_result"
    }
   ],
   "source": [
    "len(l1)  # indexing works similar as string."
   ]
  },
  {
   "cell_type": "code",
   "execution_count": 19,
   "id": "39be6106-656e-46b7-af8a-2fb19e22ea28",
   "metadata": {},
   "outputs": [],
   "source": [
    "# accessing"
   ]
  },
  {
   "cell_type": "code",
   "execution_count": 21,
   "id": "7111dd39-5fae-47e4-95e5-0cf8f1d7c31a",
   "metadata": {},
   "outputs": [
    {
     "data": {
      "text/plain": [
       "[1, 3, 5, 2]"
      ]
     },
     "execution_count": 21,
     "metadata": {},
     "output_type": "execute_result"
    }
   ],
   "source": [
    "l1"
   ]
  },
  {
   "cell_type": "code",
   "execution_count": 25,
   "id": "7958920e-b066-4b77-b821-6828fe2305aa",
   "metadata": {},
   "outputs": [
    {
     "data": {
      "text/plain": [
       "1"
      ]
     },
     "execution_count": 25,
     "metadata": {},
     "output_type": "execute_result"
    }
   ],
   "source": [
    "l1[0]"
   ]
  },
  {
   "cell_type": "code",
   "execution_count": 27,
   "id": "22cc891c-5e89-4304-8ae5-16f761bfbb3e",
   "metadata": {},
   "outputs": [
    {
     "data": {
      "text/plain": [
       "1"
      ]
     },
     "execution_count": 27,
     "metadata": {},
     "output_type": "execute_result"
    }
   ],
   "source": [
    "l1[-len(l1)]"
   ]
  },
  {
   "cell_type": "code",
   "execution_count": 29,
   "id": "dcc21a10-1eeb-44d0-87bd-0e4573ee3998",
   "metadata": {},
   "outputs": [
    {
     "data": {
      "text/plain": [
       "2"
      ]
     },
     "execution_count": 29,
     "metadata": {},
     "output_type": "execute_result"
    }
   ],
   "source": [
    "l1[-1]"
   ]
  },
  {
   "cell_type": "code",
   "execution_count": 31,
   "id": "a9f587f0-5543-4a1b-bc1d-d06b33587461",
   "metadata": {},
   "outputs": [],
   "source": [
    "# mutability"
   ]
  },
  {
   "cell_type": "code",
   "execution_count": 33,
   "id": "1ccff24d-c9df-48b9-9f7a-2d657ae40399",
   "metadata": {},
   "outputs": [
    {
     "data": {
      "text/plain": [
       "[1, 3, 5, 2]"
      ]
     },
     "execution_count": 33,
     "metadata": {},
     "output_type": "execute_result"
    }
   ],
   "source": [
    "l1"
   ]
  },
  {
   "cell_type": "code",
   "execution_count": 35,
   "id": "4615c7d3-b03c-4eac-9788-d85046f5300b",
   "metadata": {},
   "outputs": [
    {
     "data": {
      "text/plain": [
       "2922948434176"
      ]
     },
     "execution_count": 35,
     "metadata": {},
     "output_type": "execute_result"
    }
   ],
   "source": [
    "id(l1)"
   ]
  },
  {
   "cell_type": "code",
   "execution_count": 37,
   "id": "068a47d5-a87e-478f-a191-280b27339650",
   "metadata": {},
   "outputs": [],
   "source": [
    "l1[0] = 9"
   ]
  },
  {
   "cell_type": "code",
   "execution_count": 39,
   "id": "1df3d7f7-6b17-4df2-ba0d-e50cde4cb71a",
   "metadata": {},
   "outputs": [
    {
     "name": "stdout",
     "output_type": "stream",
     "text": [
      "[9, 3, 5, 2]\n"
     ]
    }
   ],
   "source": [
    "print(l1)"
   ]
  },
  {
   "cell_type": "code",
   "execution_count": 41,
   "id": "b5f70ef1-71b8-4fd0-9c4c-fd0b751dbb68",
   "metadata": {},
   "outputs": [
    {
     "data": {
      "text/plain": [
       "2922948434176"
      ]
     },
     "execution_count": 41,
     "metadata": {},
     "output_type": "execute_result"
    }
   ],
   "source": [
    "id(l1)"
   ]
  },
  {
   "cell_type": "code",
   "execution_count": 43,
   "id": "24fdc0c6-2970-4dd3-9f11-e3b06af2a5b9",
   "metadata": {},
   "outputs": [],
   "source": [
    "# iterable"
   ]
  },
  {
   "cell_type": "code",
   "execution_count": 45,
   "id": "3830f640-6716-4d5e-8b47-7abf338b478f",
   "metadata": {},
   "outputs": [
    {
     "data": {
      "text/plain": [
       "[9, 3, 5, 2]"
      ]
     },
     "execution_count": 45,
     "metadata": {},
     "output_type": "execute_result"
    }
   ],
   "source": [
    "l1"
   ]
  },
  {
   "cell_type": "code",
   "execution_count": 47,
   "id": "bc77ec1f-ffa5-4149-81c1-c9b421e2cecb",
   "metadata": {},
   "outputs": [
    {
     "name": "stdout",
     "output_type": "stream",
     "text": [
      "9\n",
      "3\n",
      "5\n",
      "2\n"
     ]
    }
   ],
   "source": [
    "for i in l1:\n",
    "    print(i)"
   ]
  },
  {
   "cell_type": "code",
   "execution_count": 49,
   "id": "d5a07aaa-4089-43a2-9fd3-2af16731e0f5",
   "metadata": {},
   "outputs": [],
   "source": [
    "# list slicing"
   ]
  },
  {
   "cell_type": "code",
   "execution_count": 51,
   "id": "4c56f3db-67dc-42f9-a529-76ef5cb58669",
   "metadata": {},
   "outputs": [],
   "source": [
    "l = [2, 3, 5, 7, 9, 4]"
   ]
  },
  {
   "cell_type": "code",
   "execution_count": 53,
   "id": "ec50ca6f-a419-435f-adc0-7ecf9e3c871f",
   "metadata": {},
   "outputs": [
    {
     "data": {
      "text/plain": [
       "6"
      ]
     },
     "execution_count": 53,
     "metadata": {},
     "output_type": "execute_result"
    }
   ],
   "source": [
    "len(l)"
   ]
  },
  {
   "cell_type": "code",
   "execution_count": 55,
   "id": "b4daefe1-9527-4ed9-bc11-b53aa8229939",
   "metadata": {},
   "outputs": [
    {
     "data": {
      "text/plain": [
       "[2, 3, 5]"
      ]
     },
     "execution_count": 55,
     "metadata": {},
     "output_type": "execute_result"
    }
   ],
   "source": [
    "l[0:3]"
   ]
  },
  {
   "cell_type": "code",
   "execution_count": 57,
   "id": "274db00d-8ccc-4bcd-89af-1c140c9fbe1b",
   "metadata": {},
   "outputs": [
    {
     "data": {
      "text/plain": [
       "[4, 9, 7, 5, 3, 2]"
      ]
     },
     "execution_count": 57,
     "metadata": {},
     "output_type": "execute_result"
    }
   ],
   "source": [
    "l[::-1]"
   ]
  },
  {
   "cell_type": "code",
   "execution_count": 59,
   "id": "6d7ebdef-6e68-4c37-ab85-e6e4b1c56473",
   "metadata": {},
   "outputs": [
    {
     "data": {
      "text/plain": [
       "[]"
      ]
     },
     "execution_count": 59,
     "metadata": {},
     "output_type": "execute_result"
    }
   ],
   "source": [
    "l[5:0]"
   ]
  },
  {
   "cell_type": "code",
   "execution_count": 61,
   "id": "fce66bfc-538c-4ec1-96ce-0b5a9139e68a",
   "metadata": {},
   "outputs": [
    {
     "data": {
      "text/plain": [
       "[4, 9, 7, 5, 3]"
      ]
     },
     "execution_count": 61,
     "metadata": {},
     "output_type": "execute_result"
    }
   ],
   "source": [
    "l[5:0:-1]"
   ]
  },
  {
   "cell_type": "code",
   "execution_count": 63,
   "id": "a26e16d7-ef23-41f3-828f-1e49421fbf62",
   "metadata": {},
   "outputs": [],
   "source": [
    "# list inbuilt methods"
   ]
  },
  {
   "cell_type": "code",
   "execution_count": 65,
   "id": "8eedcf5a-67f8-42e1-a268-5f041af3cda3",
   "metadata": {},
   "outputs": [],
   "source": [
    "# count: Returns the count of an object"
   ]
  },
  {
   "cell_type": "code",
   "execution_count": 67,
   "id": "a08de1ec-e0b2-4144-bba0-f9dd59356fe4",
   "metadata": {},
   "outputs": [],
   "source": [
    "budget = [100, 200, 150, 100]"
   ]
  },
  {
   "cell_type": "code",
   "execution_count": 69,
   "id": "605614e0-1b7b-4cf3-9e89-8961fbed91e7",
   "metadata": {},
   "outputs": [
    {
     "data": {
      "text/plain": [
       "2"
      ]
     },
     "execution_count": 69,
     "metadata": {},
     "output_type": "execute_result"
    }
   ],
   "source": [
    "budget.count(100)"
   ]
  },
  {
   "cell_type": "code",
   "execution_count": 71,
   "id": "6aa0c0e0-81b0-4f01-8d81-9ac2ba27c257",
   "metadata": {},
   "outputs": [
    {
     "data": {
      "text/plain": [
       "0"
      ]
     },
     "execution_count": 71,
     "metadata": {},
     "output_type": "execute_result"
    }
   ],
   "source": [
    "budget.count(500)"
   ]
  },
  {
   "cell_type": "code",
   "execution_count": 73,
   "id": "a1b24412-07e6-4220-a1b6-5414200ca75d",
   "metadata": {},
   "outputs": [],
   "source": [
    "# index: Returns the index of 1st occurence of an object"
   ]
  },
  {
   "cell_type": "code",
   "execution_count": 75,
   "id": "45d9d076-2d11-4687-a514-a8e02c809f40",
   "metadata": {},
   "outputs": [
    {
     "data": {
      "text/plain": [
       "[100, 200, 150, 100]"
      ]
     },
     "execution_count": 75,
     "metadata": {},
     "output_type": "execute_result"
    }
   ],
   "source": [
    "budget"
   ]
  },
  {
   "cell_type": "code",
   "execution_count": 77,
   "id": "9674f299-1f9f-4ae1-ab51-b399c5eda728",
   "metadata": {},
   "outputs": [
    {
     "data": {
      "text/plain": [
       "0"
      ]
     },
     "execution_count": 77,
     "metadata": {},
     "output_type": "execute_result"
    }
   ],
   "source": [
    "budget.index(100)"
   ]
  },
  {
   "cell_type": "code",
   "execution_count": 79,
   "id": "d1937aab-7c74-4568-bbe2-0175ce3d2da0",
   "metadata": {},
   "outputs": [
    {
     "ename": "ValueError",
     "evalue": "600 is not in list",
     "output_type": "error",
     "traceback": [
      "\u001b[1;31m---------------------------------------------------------------------------\u001b[0m",
      "\u001b[1;31mValueError\u001b[0m                                Traceback (most recent call last)",
      "Cell \u001b[1;32mIn[79], line 1\u001b[0m\n\u001b[1;32m----> 1\u001b[0m budget\u001b[38;5;241m.\u001b[39mindex(\u001b[38;5;241m600\u001b[39m)\n",
      "\u001b[1;31mValueError\u001b[0m: 600 is not in list"
     ]
    }
   ],
   "source": [
    "budget.index(600)"
   ]
  },
  {
   "cell_type": "code",
   "execution_count": 81,
   "id": "ad84f83e-2745-489b-aa39-646dd4803a20",
   "metadata": {},
   "outputs": [],
   "source": [
    "name = [\"Rahul\", \"Emma\", \"Harry\", \"Ronnie\"]"
   ]
  },
  {
   "cell_type": "code",
   "execution_count": 83,
   "id": "a30c58ec-b198-43f4-8d01-e8e496015e87",
   "metadata": {},
   "outputs": [
    {
     "data": {
      "text/plain": [
       "2"
      ]
     },
     "execution_count": 83,
     "metadata": {},
     "output_type": "execute_result"
    }
   ],
   "source": [
    "name.index(\"Harry\")"
   ]
  },
  {
   "cell_type": "code",
   "execution_count": 85,
   "id": "51c77d89-8e44-4b35-b3f1-cb9eb882911e",
   "metadata": {},
   "outputs": [],
   "source": [
    "# pop: Remove and returns the last element of the list"
   ]
  },
  {
   "cell_type": "code",
   "execution_count": 87,
   "id": "123c836d-ad11-482b-954a-4766b751b054",
   "metadata": {},
   "outputs": [
    {
     "data": {
      "text/plain": [
       "['Rahul', 'Emma', 'Harry', 'Ronnie']"
      ]
     },
     "execution_count": 87,
     "metadata": {},
     "output_type": "execute_result"
    }
   ],
   "source": [
    "name"
   ]
  },
  {
   "cell_type": "code",
   "execution_count": 89,
   "id": "3dd137a9-6c3b-4fd1-82b1-10ee8f27666a",
   "metadata": {},
   "outputs": [],
   "source": [
    "drop = name.pop()"
   ]
  },
  {
   "cell_type": "code",
   "execution_count": 91,
   "id": "a2d79f09-573d-4eda-b9ec-47a1fa30d7dc",
   "metadata": {},
   "outputs": [
    {
     "data": {
      "text/plain": [
       "'Ronnie'"
      ]
     },
     "execution_count": 91,
     "metadata": {},
     "output_type": "execute_result"
    }
   ],
   "source": [
    "drop"
   ]
  },
  {
   "cell_type": "code",
   "execution_count": 93,
   "id": "1d243c96-f642-4a7f-ad87-562a3090748f",
   "metadata": {},
   "outputs": [],
   "source": [
    "# remove: Removes the given object from our list"
   ]
  },
  {
   "cell_type": "code",
   "execution_count": 95,
   "id": "c96b4f14-e2c4-43b9-957c-79b3aab10703",
   "metadata": {},
   "outputs": [
    {
     "data": {
      "text/plain": [
       "['Rahul', 'Emma', 'Harry']"
      ]
     },
     "execution_count": 95,
     "metadata": {},
     "output_type": "execute_result"
    }
   ],
   "source": [
    "name"
   ]
  },
  {
   "cell_type": "code",
   "execution_count": 97,
   "id": "ad6cd1d3-613a-428a-bdcc-7a400ada822c",
   "metadata": {},
   "outputs": [],
   "source": [
    "name.remove(\"Emma\")"
   ]
  },
  {
   "cell_type": "code",
   "execution_count": 99,
   "id": "0ee75d47-8433-4261-99a1-f303f40f1c19",
   "metadata": {},
   "outputs": [
    {
     "data": {
      "text/plain": [
       "['Rahul', 'Harry']"
      ]
     },
     "execution_count": 99,
     "metadata": {},
     "output_type": "execute_result"
    }
   ],
   "source": [
    "name"
   ]
  },
  {
   "cell_type": "code",
   "execution_count": 101,
   "id": "15f79e1c-7839-4c49-a197-57d2e2e2043b",
   "metadata": {},
   "outputs": [
    {
     "ename": "ValueError",
     "evalue": "list.remove(x): x not in list",
     "output_type": "error",
     "traceback": [
      "\u001b[1;31m---------------------------------------------------------------------------\u001b[0m",
      "\u001b[1;31mValueError\u001b[0m                                Traceback (most recent call last)",
      "Cell \u001b[1;32mIn[101], line 1\u001b[0m\n\u001b[1;32m----> 1\u001b[0m name\u001b[38;5;241m.\u001b[39mremove(\u001b[38;5;124m\"\u001b[39m\u001b[38;5;124mSurya\u001b[39m\u001b[38;5;124m\"\u001b[39m)\n",
      "\u001b[1;31mValueError\u001b[0m: list.remove(x): x not in list"
     ]
    }
   ],
   "source": [
    "name.remove(\"Surya\")"
   ]
  },
  {
   "cell_type": "code",
   "execution_count": 103,
   "id": "a7d0b3c0-88ad-4c7d-b92a-42438cb8ebab",
   "metadata": {},
   "outputs": [],
   "source": [
    "# sort: it sorts out list"
   ]
  },
  {
   "cell_type": "code",
   "execution_count": 105,
   "id": "7d27fe53-a0a4-42b3-9c38-5dd463c1bb18",
   "metadata": {},
   "outputs": [
    {
     "data": {
      "text/plain": [
       "[100, 200, 150, 100]"
      ]
     },
     "execution_count": 105,
     "metadata": {},
     "output_type": "execute_result"
    }
   ],
   "source": [
    "budget"
   ]
  },
  {
   "cell_type": "code",
   "execution_count": 107,
   "id": "bc623a41-c7bc-40f6-a8a3-f9ca52d63b52",
   "metadata": {},
   "outputs": [],
   "source": [
    "budget.sort()"
   ]
  },
  {
   "cell_type": "code",
   "execution_count": 109,
   "id": "2a3f1caf-6e8f-4409-9bee-41ee38010a70",
   "metadata": {},
   "outputs": [
    {
     "data": {
      "text/plain": [
       "[100, 100, 150, 200]"
      ]
     },
     "execution_count": 109,
     "metadata": {},
     "output_type": "execute_result"
    }
   ],
   "source": [
    "budget"
   ]
  },
  {
   "cell_type": "code",
   "execution_count": 111,
   "id": "c706ce67-863b-4749-9415-3040bf20f241",
   "metadata": {},
   "outputs": [],
   "source": [
    "# insert: helps to add an element  at a given index"
   ]
  },
  {
   "cell_type": "code",
   "execution_count": 113,
   "id": "d4b822f5-9f31-473f-b66a-a22ad3a78ae0",
   "metadata": {},
   "outputs": [
    {
     "data": {
      "text/plain": [
       "['Rahul', 'Harry']"
      ]
     },
     "execution_count": 113,
     "metadata": {},
     "output_type": "execute_result"
    }
   ],
   "source": [
    "name"
   ]
  },
  {
   "cell_type": "code",
   "execution_count": 115,
   "id": "669a9d54-5964-47cd-9de6-249e80bc7e70",
   "metadata": {},
   "outputs": [
    {
     "data": {
      "text/plain": [
       "\u001b[1;31mSignature:\u001b[0m \u001b[0mname\u001b[0m\u001b[1;33m.\u001b[0m\u001b[0minsert\u001b[0m\u001b[1;33m(\u001b[0m\u001b[0mindex\u001b[0m\u001b[1;33m,\u001b[0m \u001b[0mobject\u001b[0m\u001b[1;33m,\u001b[0m \u001b[1;33m/\u001b[0m\u001b[1;33m)\u001b[0m\u001b[1;33m\u001b[0m\u001b[1;33m\u001b[0m\u001b[0m\n",
       "\u001b[1;31mDocstring:\u001b[0m Insert object before index.\n",
       "\u001b[1;31mType:\u001b[0m      builtin_function_or_method"
      ]
     },
     "metadata": {},
     "output_type": "display_data"
    }
   ],
   "source": [
    "name.insert?"
   ]
  },
  {
   "cell_type": "code",
   "execution_count": 117,
   "id": "26799025-6f5a-47e5-8ca3-7d77618b5295",
   "metadata": {},
   "outputs": [],
   "source": [
    "name.insert(1, \"Emma\")"
   ]
  },
  {
   "cell_type": "code",
   "execution_count": 119,
   "id": "ca678cef-8fc9-4c96-a25d-536a95b5f36c",
   "metadata": {},
   "outputs": [
    {
     "data": {
      "text/plain": [
       "['Rahul', 'Emma', 'Harry']"
      ]
     },
     "execution_count": 119,
     "metadata": {},
     "output_type": "execute_result"
    }
   ],
   "source": [
    "name"
   ]
  },
  {
   "cell_type": "code",
   "execution_count": 121,
   "id": "dcba3a2a-355d-4a15-9e92-2f4c5d11d321",
   "metadata": {},
   "outputs": [],
   "source": [
    "name.insert(0, \"Ronnie\")"
   ]
  },
  {
   "cell_type": "code",
   "execution_count": 123,
   "id": "16c30ac4-4421-4323-81b6-22913e85ea69",
   "metadata": {},
   "outputs": [
    {
     "data": {
      "text/plain": [
       "['Ronnie', 'Rahul', 'Emma', 'Harry']"
      ]
     },
     "execution_count": 123,
     "metadata": {},
     "output_type": "execute_result"
    }
   ],
   "source": [
    "name"
   ]
  }
 ],
 "metadata": {
  "kernelspec": {
   "display_name": "Python 3 (ipykernel)",
   "language": "python",
   "name": "python3"
  },
  "language_info": {
   "codemirror_mode": {
    "name": "ipython",
    "version": 3
   },
   "file_extension": ".py",
   "mimetype": "text/x-python",
   "name": "python",
   "nbconvert_exporter": "python",
   "pygments_lexer": "ipython3",
   "version": "3.12.4"
  }
 },
 "nbformat": 4,
 "nbformat_minor": 5
}
