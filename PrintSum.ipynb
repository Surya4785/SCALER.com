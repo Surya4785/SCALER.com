{
 "cells": [
  {
   "cell_type": "code",
   "execution_count": 1,
   "id": "7a9cb40f-c8ff-445d-a2f1-aec44ed582fc",
   "metadata": {},
   "outputs": [],
   "source": [
    "# print sum of all numbers from 1 to 10"
   ]
  },
  {
   "cell_type": "code",
   "execution_count": 7,
   "id": "32bd8db4-7c1e-4343-96fc-07ee7c83af4f",
   "metadata": {},
   "outputs": [
    {
     "name": "stdout",
     "output_type": "stream",
     "text": [
      "55\n"
     ]
    }
   ],
   "source": [
    "# initialize\n",
    "i = 1\n",
    "add = 0\n",
    "\n",
    "# loop condition\n",
    "while i <= 10:\n",
    "    # print(i, end=\" \")\n",
    "    add += i\n",
    "    \n",
    "    # update\n",
    "    i += 1\n",
    "\n",
    "print(add)"
   ]
  }
 ],
 "metadata": {
  "kernelspec": {
   "display_name": "Python 3 (ipykernel)",
   "language": "python",
   "name": "python3"
  },
  "language_info": {
   "codemirror_mode": {
    "name": "ipython",
    "version": 3
   },
   "file_extension": ".py",
   "mimetype": "text/x-python",
   "name": "python",
   "nbconvert_exporter": "python",
   "pygments_lexer": "ipython3",
   "version": "3.12.4"
  }
 },
 "nbformat": 4,
 "nbformat_minor": 5
}
