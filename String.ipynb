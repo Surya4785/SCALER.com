{
 "cells": [
  {
   "cell_type": "code",
   "execution_count": 1,
   "id": "a2f5d4a1-7d82-40a4-86bb-62689c40d878",
   "metadata": {},
   "outputs": [],
   "source": [
    "# STRINGS:\n",
    "# A String is a sequence of characters \n",
    "# Characters can be:\n",
    "# * Alphabets \n",
    "# * Digits\n",
    "# * Whitespace\n",
    "# * Special Characters\n",
    "# They can be defined using single, double or tripple quotes "
   ]
  },
  {
   "cell_type": "code",
   "execution_count": 3,
   "id": "3a6b84ac-3125-476d-824c-602b0b13a92d",
   "metadata": {},
   "outputs": [
    {
     "data": {
      "text/plain": [
       "False"
      ]
     },
     "execution_count": 3,
     "metadata": {},
     "output_type": "execute_result"
    }
   ],
   "source": [
    "\"Rahul\" == \"luhaR\""
   ]
  },
  {
   "cell_type": "code",
   "execution_count": 5,
   "id": "3782b5f5-7fa0-49ff-af75-365984d240b4",
   "metadata": {},
   "outputs": [],
   "source": [
    "s = \"Rahul\""
   ]
  },
  {
   "cell_type": "code",
   "execution_count": 7,
   "id": "919fb5e5-3772-4bed-bbe2-7c0a6dc72dc3",
   "metadata": {},
   "outputs": [
    {
     "data": {
      "text/plain": [
       "str"
      ]
     },
     "execution_count": 7,
     "metadata": {},
     "output_type": "execute_result"
    }
   ],
   "source": [
    "type(s)"
   ]
  },
  {
   "cell_type": "code",
   "execution_count": 9,
   "id": "b16d6c85-a56e-4979-9de1-c44b56bcf00c",
   "metadata": {},
   "outputs": [
    {
     "data": {
      "text/plain": [
       "str"
      ]
     },
     "execution_count": 9,
     "metadata": {},
     "output_type": "execute_result"
    }
   ],
   "source": [
    "s1 = 'Rahul'\n",
    "type(s1)"
   ]
  },
  {
   "cell_type": "code",
   "execution_count": 13,
   "id": "7b9f6a53-f661-459b-99ca-9540223fa142",
   "metadata": {},
   "outputs": [],
   "source": [
    "# Ord and Chr"
   ]
  },
  {
   "cell_type": "code",
   "execution_count": 22,
   "id": "6eee853a-c79e-45fc-ade7-1874b4a0b7a5",
   "metadata": {},
   "outputs": [],
   "source": [
    "# ord"
   ]
  },
  {
   "cell_type": "code",
   "execution_count": 17,
   "id": "e479e6e7-72ff-47d4-90f2-e3140b5b3c0f",
   "metadata": {},
   "outputs": [
    {
     "data": {
      "text/plain": [
       "97"
      ]
     },
     "execution_count": 17,
     "metadata": {},
     "output_type": "execute_result"
    }
   ],
   "source": [
    "ord(\"a\")"
   ]
  },
  {
   "cell_type": "code",
   "execution_count": 19,
   "id": "28a2e3da-1e44-4f7c-89d5-2e092ea2128c",
   "metadata": {},
   "outputs": [
    {
     "data": {
      "text/plain": [
       "65"
      ]
     },
     "execution_count": 19,
     "metadata": {},
     "output_type": "execute_result"
    }
   ],
   "source": [
    "ord(\"A\")"
   ]
  },
  {
   "cell_type": "code",
   "execution_count": 24,
   "id": "2680d550-1b44-4820-ade1-88d67c8d3e92",
   "metadata": {},
   "outputs": [],
   "source": [
    "# chr"
   ]
  },
  {
   "cell_type": "code",
   "execution_count": 26,
   "id": "e086cff0-ab1b-484b-b437-13089a60edfc",
   "metadata": {},
   "outputs": [
    {
     "data": {
      "text/plain": [
       "'a'"
      ]
     },
     "execution_count": 26,
     "metadata": {},
     "output_type": "execute_result"
    }
   ],
   "source": [
    "chr(97)"
   ]
  },
  {
   "cell_type": "code",
   "execution_count": 28,
   "id": "67b06958-4560-4d2c-a2f6-726ca42a8aac",
   "metadata": {},
   "outputs": [
    {
     "data": {
      "text/plain": [
       "'Ӣ'"
      ]
     },
     "execution_count": 28,
     "metadata": {},
     "output_type": "execute_result"
    }
   ],
   "source": [
    "chr(1250)"
   ]
  },
  {
   "cell_type": "code",
   "execution_count": 30,
   "id": "14221dd3-0e9c-413c-a8e0-23d969ae52cd",
   "metadata": {},
   "outputs": [
    {
     "data": {
      "text/plain": [
       "'ǿ'"
      ]
     },
     "execution_count": 30,
     "metadata": {},
     "output_type": "execute_result"
    }
   ],
   "source": [
    "chr(511)"
   ]
  },
  {
   "cell_type": "code",
   "execution_count": 32,
   "id": "88c96747-0e29-4dda-87cd-ef8b52a4a5b8",
   "metadata": {},
   "outputs": [],
   "source": [
    "# Indexing in a string"
   ]
  },
  {
   "cell_type": "code",
   "execution_count": 34,
   "id": "4b6cd618-7c17-4537-948a-3291b1f6dcb1",
   "metadata": {},
   "outputs": [],
   "source": [
    "name = \"Nawab Surya\""
   ]
  },
  {
   "cell_type": "code",
   "execution_count": 36,
   "id": "0bf4b1df-4171-432b-8c35-ed946ed3d68d",
   "metadata": {},
   "outputs": [],
   "source": [
    "# accessing character through indexing"
   ]
  },
  {
   "cell_type": "code",
   "execution_count": 38,
   "id": "1a5175eb-db9c-4162-923d-733825e5660e",
   "metadata": {},
   "outputs": [
    {
     "data": {
      "text/plain": [
       "'Nawab Surya'"
      ]
     },
     "execution_count": 38,
     "metadata": {},
     "output_type": "execute_result"
    }
   ],
   "source": [
    "name"
   ]
  },
  {
   "cell_type": "code",
   "execution_count": 40,
   "id": "0a50454c-d32e-47fa-bb9c-9f3c0d9bcf77",
   "metadata": {},
   "outputs": [
    {
     "data": {
      "text/plain": [
       "'N'"
      ]
     },
     "execution_count": 40,
     "metadata": {},
     "output_type": "execute_result"
    }
   ],
   "source": [
    "name[0]"
   ]
  },
  {
   "cell_type": "code",
   "execution_count": 42,
   "id": "896fae52-c403-4470-a033-7ac22199243a",
   "metadata": {},
   "outputs": [
    {
     "data": {
      "text/plain": [
       "'w'"
      ]
     },
     "execution_count": 42,
     "metadata": {},
     "output_type": "execute_result"
    }
   ],
   "source": [
    "name[2]"
   ]
  },
  {
   "cell_type": "code",
   "execution_count": 44,
   "id": "16806721-d128-4f06-b6e3-cce79898b781",
   "metadata": {},
   "outputs": [
    {
     "data": {
      "text/plain": [
       "11"
      ]
     },
     "execution_count": 44,
     "metadata": {},
     "output_type": "execute_result"
    }
   ],
   "source": [
    "len(name)"
   ]
  },
  {
   "cell_type": "code",
   "execution_count": 48,
   "id": "6c80a276-503e-4af5-a2cc-9ab9fd55c3e1",
   "metadata": {},
   "outputs": [
    {
     "data": {
      "text/plain": [
       "5"
      ]
     },
     "execution_count": 48,
     "metadata": {},
     "output_type": "execute_result"
    }
   ],
   "source": [
    "len(\"Nawab\")"
   ]
  },
  {
   "cell_type": "code",
   "execution_count": 50,
   "id": "e68b884f-a8b0-4185-932a-e430386af090",
   "metadata": {},
   "outputs": [
    {
     "data": {
      "text/plain": [
       "'Nawab Surya'"
      ]
     },
     "execution_count": 50,
     "metadata": {},
     "output_type": "execute_result"
    }
   ],
   "source": [
    "name"
   ]
  },
  {
   "cell_type": "code",
   "execution_count": 52,
   "id": "2d614aff-07be-46c4-888f-98fa46efb1ea",
   "metadata": {},
   "outputs": [
    {
     "name": "stdout",
     "output_type": "stream",
     "text": [
      "N\n",
      "11\n"
     ]
    }
   ],
   "source": [
    "size = len(name)\n",
    "print(name[-size])\n",
    "print(size)"
   ]
  },
  {
   "cell_type": "code",
   "execution_count": 54,
   "id": "355a7c49-988b-474d-a115-87ce28e65cbf",
   "metadata": {},
   "outputs": [],
   "source": [
    "# String Slicing"
   ]
  },
  {
   "cell_type": "code",
   "execution_count": 56,
   "id": "947f1669-5957-4168-bc0f-8917fb251e87",
   "metadata": {},
   "outputs": [],
   "source": [
    "name = \"Rahul janghu\""
   ]
  },
  {
   "cell_type": "code",
   "execution_count": 58,
   "id": "18f99ed1-ab86-4b03-bb24-de5f5b7b94e6",
   "metadata": {},
   "outputs": [
    {
     "data": {
      "text/plain": [
       "'R'"
      ]
     },
     "execution_count": 58,
     "metadata": {},
     "output_type": "execute_result"
    }
   ],
   "source": [
    "name[0]"
   ]
  },
  {
   "cell_type": "code",
   "execution_count": 62,
   "id": "146332f9-6bf1-4485-bd87-2b07e0282322",
   "metadata": {},
   "outputs": [
    {
     "data": {
      "text/plain": [
       "'Ra'"
      ]
     },
     "execution_count": 62,
     "metadata": {},
     "output_type": "execute_result"
    }
   ],
   "source": [
    "name[0:2]  # end is excluded"
   ]
  },
  {
   "cell_type": "code",
   "execution_count": 64,
   "id": "e6f92f50-664b-477c-aad2-0c50a7d7bc57",
   "metadata": {},
   "outputs": [],
   "source": [
    "# jump"
   ]
  },
  {
   "cell_type": "code",
   "execution_count": 68,
   "id": "afc0c6cb-35e2-4017-8bcb-7e844915eb7f",
   "metadata": {},
   "outputs": [
    {
     "data": {
      "text/plain": [
       "'hul janghu'"
      ]
     },
     "execution_count": 68,
     "metadata": {},
     "output_type": "execute_result"
    }
   ],
   "source": [
    "size = len(name)\n",
    "name[2:size]"
   ]
  },
  {
   "cell_type": "code",
   "execution_count": 72,
   "id": "c1d1fb28-c4a4-4088-9540-b63a73538771",
   "metadata": {},
   "outputs": [
    {
     "data": {
      "text/plain": [
       "'Rahul janghu'"
      ]
     },
     "execution_count": 72,
     "metadata": {},
     "output_type": "execute_result"
    }
   ],
   "source": [
    "name[:] # this will give the whole index by default"
   ]
  },
  {
   "cell_type": "code",
   "execution_count": 76,
   "id": "3d59bbed-3114-457a-a5b7-070788b8945b",
   "metadata": {},
   "outputs": [
    {
     "data": {
      "text/plain": [
       "'Rahul janghu'"
      ]
     },
     "execution_count": 76,
     "metadata": {},
     "output_type": "execute_result"
    }
   ],
   "source": [
    "name[::] # by default jump is 1"
   ]
  },
  {
   "cell_type": "code",
   "execution_count": 78,
   "id": "51be7e23-d504-4a95-ad02-59a9b16de726",
   "metadata": {},
   "outputs": [
    {
     "data": {
      "text/plain": [
       "'Rhljnh'"
      ]
     },
     "execution_count": 78,
     "metadata": {},
     "output_type": "execute_result"
    }
   ],
   "source": [
    "name[::2]"
   ]
  },
  {
   "cell_type": "code",
   "execution_count": 84,
   "id": "ca907d88-19b4-47c6-b0f2-67a2cb56d10e",
   "metadata": {},
   "outputs": [
    {
     "data": {
      "text/plain": [
       "'Rahul jangh'"
      ]
     },
     "execution_count": 84,
     "metadata": {},
     "output_type": "execute_result"
    }
   ],
   "source": [
    "name[:-1]"
   ]
  },
  {
   "cell_type": "code",
   "execution_count": 86,
   "id": "c3fe863a-8b41-458e-ab46-0145b064c14d",
   "metadata": {},
   "outputs": [
    {
     "data": {
      "text/plain": [
       "'h'"
      ]
     },
     "execution_count": 86,
     "metadata": {},
     "output_type": "execute_result"
    }
   ],
   "source": [
    "name[-2]"
   ]
  },
  {
   "cell_type": "code",
   "execution_count": 90,
   "id": "abf70382-1306-4229-a9a5-34dc6cb374dc",
   "metadata": {},
   "outputs": [
    {
     "data": {
      "text/plain": [
       "''"
      ]
     },
     "execution_count": 90,
     "metadata": {},
     "output_type": "execute_result"
    }
   ],
   "source": [
    "name[1:-2:-1]"
   ]
  },
  {
   "cell_type": "code",
   "execution_count": 92,
   "id": "332f9422-fcab-48f3-9f91-0722bb2da298",
   "metadata": {},
   "outputs": [
    {
     "data": {
      "text/plain": [
       "'Rahul janghu'"
      ]
     },
     "execution_count": 92,
     "metadata": {},
     "output_type": "execute_result"
    }
   ],
   "source": [
    "name"
   ]
  },
  {
   "cell_type": "code",
   "execution_count": 94,
   "id": "f0134607-7dc6-429e-a6a7-2d05c57239d6",
   "metadata": {},
   "outputs": [
    {
     "data": {
      "text/plain": [
       "''"
      ]
     },
     "execution_count": 94,
     "metadata": {},
     "output_type": "execute_result"
    }
   ],
   "source": [
    "name[-1:0]"
   ]
  },
  {
   "cell_type": "code",
   "execution_count": 96,
   "id": "5951c792-69ef-4a44-b94f-97b3f2a0f046",
   "metadata": {},
   "outputs": [
    {
     "data": {
      "text/plain": [
       "'uhgnaj luha'"
      ]
     },
     "execution_count": 96,
     "metadata": {},
     "output_type": "execute_result"
    }
   ],
   "source": [
    "name[-1:0:-1]"
   ]
  },
  {
   "cell_type": "code",
   "execution_count": 98,
   "id": "5087eea9-677c-4d28-af9a-aa11c032c482",
   "metadata": {},
   "outputs": [
    {
     "data": {
      "text/plain": [
       "'uhgnaj luhaR'"
      ]
     },
     "execution_count": 98,
     "metadata": {},
     "output_type": "execute_result"
    }
   ],
   "source": [
    "name[::-1]"
   ]
  },
  {
   "cell_type": "code",
   "execution_count": 100,
   "id": "e60dc5e8-a3ec-4bf0-9e0c-60af32598910",
   "metadata": {},
   "outputs": [
    {
     "data": {
      "text/plain": [
       "'uhgnaj luhaR'"
      ]
     },
     "execution_count": 100,
     "metadata": {},
     "output_type": "execute_result"
    }
   ],
   "source": [
    "name[-1:-(len(name) + 1):-1]"
   ]
  }
 ],
 "metadata": {
  "kernelspec": {
   "display_name": "Python 3 (ipykernel)",
   "language": "python",
   "name": "python3"
  },
  "language_info": {
   "codemirror_mode": {
    "name": "ipython",
    "version": 3
   },
   "file_extension": ".py",
   "mimetype": "text/x-python",
   "name": "python",
   "nbconvert_exporter": "python",
   "pygments_lexer": "ipython3",
   "version": "3.12.4"
  }
 },
 "nbformat": 4,
 "nbformat_minor": 5
}
