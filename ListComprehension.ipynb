{
 "cells": [
  {
   "cell_type": "code",
   "execution_count": 1,
   "id": "d6f7e391-b314-4ad4-898d-5aa100014827",
   "metadata": {},
   "outputs": [],
   "source": [
    "# list comprehension"
   ]
  },
  {
   "cell_type": "code",
   "execution_count": 9,
   "id": "9e3f0299-a0eb-442d-ba30-3da048416787",
   "metadata": {},
   "outputs": [
    {
     "name": "stdout",
     "output_type": "stream",
     "text": [
      "0\n",
      "1\n",
      "4\n",
      "9\n",
      "16\n",
      "25\n",
      "36\n",
      "49\n",
      "64\n",
      "81\n"
     ]
    }
   ],
   "source": [
    "for i in range(10):\n",
    "    print(i ** 2)"
   ]
  },
  {
   "cell_type": "code",
   "execution_count": 11,
   "id": "98ffe581-6eaa-4278-8d0c-6813eb9bcb17",
   "metadata": {},
   "outputs": [
    {
     "name": "stdout",
     "output_type": "stream",
     "text": [
      "[0, 1, 4, 9, 16, 25, 36, 49, 64, 81]\n"
     ]
    }
   ],
   "source": [
    "l = []\n",
    "\n",
    "for i in range(10):\n",
    "    l.append(i ** 2)\n",
    "print(l)"
   ]
  },
  {
   "cell_type": "code",
   "execution_count": 15,
   "id": "0484065a-f2d5-4c72-9d6b-3c86554b6276",
   "metadata": {},
   "outputs": [
    {
     "data": {
      "text/plain": [
       "[0, 1, 4, 9, 16, 25, 36, 49, 64, 81]"
      ]
     },
     "execution_count": 15,
     "metadata": {},
     "output_type": "execute_result"
    }
   ],
   "source": [
    "l = [(i ** 2) for i in range(10)]\n",
    "l"
   ]
  },
  {
   "cell_type": "code",
   "execution_count": 17,
   "id": "dbe063cc-33bc-41e5-a5f1-3329210667fe",
   "metadata": {},
   "outputs": [],
   "source": [
    "# Challenge:"
   ]
  },
  {
   "cell_type": "code",
   "execution_count": 19,
   "id": "4747019a-d7ca-4240-9f2c-00fb2b6aa990",
   "metadata": {},
   "outputs": [],
   "source": [
    "# Given a list of population sensus done by government of India.\n",
    "# You need to find the total population. Each element in the list represents total numbers in the family.\n",
    "# l = [4,6,5,8,9,3,2,4,5,4,3,2,3,4]"
   ]
  },
  {
   "cell_type": "code",
   "execution_count": 23,
   "id": "f21cf0b6-a66a-43ad-9c00-081e905c2ead",
   "metadata": {},
   "outputs": [
    {
     "name": "stdout",
     "output_type": "stream",
     "text": [
      "62\n"
     ]
    }
   ],
   "source": [
    "# access all the elements of this list\n",
    "l = [4,6,5,8,9,3,2,4,5,4,3,2,3,4]\n",
    "\n",
    "population = 0\n",
    "for i in l:\n",
    "    # sum them up\n",
    "    population += i\n",
    "print(population)"
   ]
  }
 ],
 "metadata": {
  "kernelspec": {
   "display_name": "Python 3 (ipykernel)",
   "language": "python",
   "name": "python3"
  },
  "language_info": {
   "codemirror_mode": {
    "name": "ipython",
    "version": 3
   },
   "file_extension": ".py",
   "mimetype": "text/x-python",
   "name": "python",
   "nbconvert_exporter": "python",
   "pygments_lexer": "ipython3",
   "version": "3.12.4"
  }
 },
 "nbformat": 4,
 "nbformat_minor": 5
}
