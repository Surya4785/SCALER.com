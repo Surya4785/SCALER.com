{
 "cells": [
  {
   "cell_type": "code",
   "execution_count": 1,
   "id": "8818bf20-ecfa-40f0-ae15-d1eec0fbb2e7",
   "metadata": {},
   "outputs": [
    {
     "name": "stdout",
     "output_type": "stream",
     "text": [
      "24\n",
      "<class 'int'>\n"
     ]
    }
   ],
   "source": [
    "# integers\n",
    "\n",
    "number = 24\n",
    "print(number)\n",
    "print(type(number))"
   ]
  },
  {
   "cell_type": "code",
   "execution_count": 3,
   "id": "3818d5d0-69f9-46df-b829-c9cc029f46c2",
   "metadata": {},
   "outputs": [
    {
     "name": "stdout",
     "output_type": "stream",
     "text": [
      "1.0\n",
      "<class 'float'>\n"
     ]
    }
   ],
   "source": [
    "# float\n",
    "\n",
    "f = 1.0\n",
    "print(f)\n",
    "print(type(f))"
   ]
  },
  {
   "cell_type": "code",
   "execution_count": 5,
   "id": "616c9a54-9d25-41e2-b982-05b627f67f77",
   "metadata": {},
   "outputs": [
    {
     "name": "stdout",
     "output_type": "stream",
     "text": [
      "<class 'float'>\n"
     ]
    }
   ],
   "source": [
    "f1 = 2.23\n",
    "print(type(f1))"
   ]
  },
  {
   "cell_type": "code",
   "execution_count": 7,
   "id": "bf63a10c-12ff-4341-94b9-01aad511fd8d",
   "metadata": {},
   "outputs": [
    {
     "name": "stdout",
     "output_type": "stream",
     "text": [
      "<class 'bool'>\n"
     ]
    }
   ],
   "source": [
    "# boolian\n",
    "\n",
    "b = True\n",
    "print(type(b))"
   ]
  },
  {
   "cell_type": "code",
   "execution_count": 9,
   "id": "5c8fde23-1aa9-4ca3-97b3-de72d6b8877e",
   "metadata": {},
   "outputs": [
    {
     "name": "stdout",
     "output_type": "stream",
     "text": [
      "<class 'bool'>\n"
     ]
    }
   ],
   "source": [
    "b1 = False\n",
    "print(type(b1))"
   ]
  },
  {
   "cell_type": "code",
   "execution_count": 13,
   "id": "63e1a9e7-2cda-4b78-bbf1-03c3d6c86915",
   "metadata": {},
   "outputs": [
    {
     "name": "stdout",
     "output_type": "stream",
     "text": [
      "<class 'str'>\n",
      "Rahul 123 @\n"
     ]
    }
   ],
   "source": [
    "# strings\n",
    "\n",
    "s = \"Rahul 123 @\"\n",
    "print(type(s))\n",
    "print(s)"
   ]
  },
  {
   "cell_type": "code",
   "execution_count": 15,
   "id": "1fa4c155-5ba1-49d5-b123-3405a089b51d",
   "metadata": {},
   "outputs": [
    {
     "name": "stdout",
     "output_type": "stream",
     "text": [
      "this is a multiline string\n",
      "<class 'str'>\n"
     ]
    }
   ],
   "source": [
    "m = \"\"\"this is a multiline string\"\"\"\n",
    "print(m)\n",
    "print(type(m))"
   ]
  },
  {
   "cell_type": "code",
   "execution_count": 17,
   "id": "4b1b7fba-fa8c-4148-9753-7fee363c2a2e",
   "metadata": {},
   "outputs": [
    {
     "name": "stdout",
     "output_type": "stream",
     "text": [
      "None\n",
      "<class 'NoneType'>\n"
     ]
    }
   ],
   "source": [
    "# none\n",
    "\n",
    "n = None\n",
    "print(n)\n",
    "print(type(n))"
   ]
  },
  {
   "cell_type": "code",
   "execution_count": null,
   "id": "ccf77b67-1539-4092-8c9e-d3263b4b8a56",
   "metadata": {},
   "outputs": [],
   "source": []
  }
 ],
 "metadata": {
  "kernelspec": {
   "display_name": "Python 3 (ipykernel)",
   "language": "python",
   "name": "python3"
  },
  "language_info": {
   "codemirror_mode": {
    "name": "ipython",
    "version": 3
   },
   "file_extension": ".py",
   "mimetype": "text/x-python",
   "name": "python",
   "nbconvert_exporter": "python",
   "pygments_lexer": "ipython3",
   "version": "3.12.4"
  }
 },
 "nbformat": 4,
 "nbformat_minor": 5
}
