{
 "cells": [
  {
   "cell_type": "code",
   "execution_count": 3,
   "id": "435bc41d-add7-4f02-9c78-01063df5e08d",
   "metadata": {},
   "outputs": [],
   "source": [
    "# Tuples\n",
    "\n",
    "# like the lists, tuples are also ordered collection of data.\n",
    "# it is unchangeable, iterable and can be heterogenous."
   ]
  },
  {
   "cell_type": "code",
   "execution_count": 5,
   "id": "f4c89376-c5cc-4c09-96fa-cbb7ffd33127",
   "metadata": {},
   "outputs": [],
   "source": [
    "planets = [\"Mercury\", \"Venus\", \"Earth\", \"Mars\", \"Jupyter\", \"Saturn\", \"Uranus\", \"Neptune\"]"
   ]
  },
  {
   "cell_type": "code",
   "execution_count": 7,
   "id": "62e50237-eae2-4e58-9892-81071fda4103",
   "metadata": {},
   "outputs": [],
   "source": [
    "planets[2] = \"Rahul\""
   ]
  },
  {
   "cell_type": "code",
   "execution_count": 9,
   "id": "3a88ecfc-46cb-4e36-a854-d9269c97d208",
   "metadata": {},
   "outputs": [
    {
     "data": {
      "text/plain": [
       "list"
      ]
     },
     "execution_count": 9,
     "metadata": {},
     "output_type": "execute_result"
    }
   ],
   "source": [
    "type(planets)"
   ]
  },
  {
   "cell_type": "code",
   "execution_count": 11,
   "id": "3062db5b-0fcd-4369-89aa-a3de446aac54",
   "metadata": {},
   "outputs": [
    {
     "data": {
      "text/plain": [
       "['Mercury', 'Venus', 'Rahul', 'Mars', 'Jupyter', 'Saturn', 'Uranus', 'Neptune']"
      ]
     },
     "execution_count": 11,
     "metadata": {},
     "output_type": "execute_result"
    }
   ],
   "source": [
    "planets"
   ]
  },
  {
   "cell_type": "code",
   "execution_count": 13,
   "id": "7630dfa2-39b2-4157-9ab8-3a1aa1c718f4",
   "metadata": {},
   "outputs": [],
   "source": [
    "t = (\"Mercury\", \"Venus\", \"Earth\", \"Mars\", \"Jupyter\", \"Saturn\", \"Uranus\", \"Neptune\")"
   ]
  },
  {
   "cell_type": "code",
   "execution_count": 15,
   "id": "e5dfa1bc-d49b-4460-86a8-11b98ca925f0",
   "metadata": {},
   "outputs": [
    {
     "data": {
      "text/plain": [
       "tuple"
      ]
     },
     "execution_count": 15,
     "metadata": {},
     "output_type": "execute_result"
    }
   ],
   "source": [
    "type(t)"
   ]
  },
  {
   "cell_type": "code",
   "execution_count": 17,
   "id": "da930f2e-81d1-4200-8f77-47817f719cd3",
   "metadata": {},
   "outputs": [],
   "source": [
    "# indexing"
   ]
  },
  {
   "cell_type": "code",
   "execution_count": 19,
   "id": "91d34813-b500-4dba-961a-b1ff907236c0",
   "metadata": {},
   "outputs": [
    {
     "data": {
      "text/plain": [
       "'Mercury'"
      ]
     },
     "execution_count": 19,
     "metadata": {},
     "output_type": "execute_result"
    }
   ],
   "source": [
    "t[0]"
   ]
  },
  {
   "cell_type": "code",
   "execution_count": 21,
   "id": "68dbccc0-3c0c-45fd-bf21-2f63431001f2",
   "metadata": {},
   "outputs": [
    {
     "data": {
      "text/plain": [
       "'Neptune'"
      ]
     },
     "execution_count": 21,
     "metadata": {},
     "output_type": "execute_result"
    }
   ],
   "source": [
    "t[-1]"
   ]
  },
  {
   "cell_type": "code",
   "execution_count": 23,
   "id": "950f203e-bd41-4aef-ac68-57e75e30639e",
   "metadata": {},
   "outputs": [],
   "source": [
    "# slicing"
   ]
  },
  {
   "cell_type": "code",
   "execution_count": 25,
   "id": "d0e65685-d20f-481a-a3b2-e277e3f1ed93",
   "metadata": {},
   "outputs": [
    {
     "data": {
      "text/plain": [
       "('Venus', 'Earth')"
      ]
     },
     "execution_count": 25,
     "metadata": {},
     "output_type": "execute_result"
    }
   ],
   "source": [
    "t[1:3]"
   ]
  },
  {
   "cell_type": "code",
   "execution_count": 27,
   "id": "2070ac89-82ac-4ff8-a008-8d8d1de66af9",
   "metadata": {},
   "outputs": [
    {
     "data": {
      "text/plain": [
       "('Mercury', 'Venus', 'Earth', 'Mars', 'Jupyter', 'Saturn', 'Uranus', 'Neptune')"
      ]
     },
     "execution_count": 27,
     "metadata": {},
     "output_type": "execute_result"
    }
   ],
   "source": [
    "t"
   ]
  },
  {
   "cell_type": "code",
   "execution_count": 29,
   "id": "7c47703e-e4f2-4f2b-9a59-8ec2df4e1740",
   "metadata": {},
   "outputs": [
    {
     "ename": "TypeError",
     "evalue": "'tuple' object does not support item assignment",
     "output_type": "error",
     "traceback": [
      "\u001b[1;31m---------------------------------------------------------------------------\u001b[0m",
      "\u001b[1;31mTypeError\u001b[0m                                 Traceback (most recent call last)",
      "Cell \u001b[1;32mIn[29], line 1\u001b[0m\n\u001b[1;32m----> 1\u001b[0m t[\u001b[38;5;241m2\u001b[39m] \u001b[38;5;241m=\u001b[39m \u001b[38;5;124m\"\u001b[39m\u001b[38;5;124mRahul\u001b[39m\u001b[38;5;124m\"\u001b[39m\n",
      "\u001b[1;31mTypeError\u001b[0m: 'tuple' object does not support item assignment"
     ]
    }
   ],
   "source": [
    "t[2] = \"Rahul\""
   ]
  },
  {
   "cell_type": "code",
   "execution_count": 33,
   "id": "90cf11c4-34ba-45b3-a9ff-8d46e3a722f1",
   "metadata": {},
   "outputs": [],
   "source": [
    "# tuples are immutable/non-changeable..."
   ]
  },
  {
   "cell_type": "code",
   "execution_count": 35,
   "id": "9553967f-566d-4799-97b6-8e3cced13913",
   "metadata": {},
   "outputs": [],
   "source": [
    "t = [\"Rahul\", 2, 24.4, True]"
   ]
  },
  {
   "cell_type": "code",
   "execution_count": 37,
   "id": "cd503056-9d33-472a-a947-e9a53cb90590",
   "metadata": {},
   "outputs": [
    {
     "data": {
      "text/plain": [
       "list"
      ]
     },
     "execution_count": 37,
     "metadata": {},
     "output_type": "execute_result"
    }
   ],
   "source": [
    "type(t)"
   ]
  },
  {
   "cell_type": "code",
   "execution_count": 39,
   "id": "0d7cde5c-70a5-4d2f-be46-afca2041ec51",
   "metadata": {},
   "outputs": [],
   "source": [
    "# creating tuples..."
   ]
  },
  {
   "cell_type": "code",
   "execution_count": 41,
   "id": "63aed03e-613e-4c53-9e8d-8cfeae5482b9",
   "metadata": {},
   "outputs": [],
   "source": [
    "# empty tuple"
   ]
  },
  {
   "cell_type": "code",
   "execution_count": 49,
   "id": "26c4b781-7ccc-41f1-a611-29af630bb7dd",
   "metadata": {},
   "outputs": [
    {
     "data": {
      "text/plain": [
       "tuple"
      ]
     },
     "execution_count": 49,
     "metadata": {},
     "output_type": "execute_result"
    }
   ],
   "source": [
    "t = ()\n",
    "type(t)"
   ]
  },
  {
   "cell_type": "code",
   "execution_count": 51,
   "id": "af0e5cff-0222-4e1c-bc6a-880a1a14364a",
   "metadata": {},
   "outputs": [
    {
     "name": "stdout",
     "output_type": "stream",
     "text": [
      "() ()\n"
     ]
    }
   ],
   "source": [
    "t1 = tuple()\n",
    "print(t, t1)"
   ]
  },
  {
   "cell_type": "code",
   "execution_count": 53,
   "id": "ea1f1ce2-8a68-497d-bfa6-894f29ea6adb",
   "metadata": {},
   "outputs": [
    {
     "name": "stdout",
     "output_type": "stream",
     "text": [
      "() ()\n"
     ]
    }
   ],
   "source": [
    "print(t, t1)"
   ]
  },
  {
   "cell_type": "code",
   "execution_count": 55,
   "id": "0a650287-911e-493d-b6ae-c8672bbfb172",
   "metadata": {},
   "outputs": [],
   "source": [
    "# non-empty tuple"
   ]
  },
  {
   "cell_type": "code",
   "execution_count": 67,
   "id": "19ddaadf-bb70-4d6a-aea9-ca2606b79e38",
   "metadata": {},
   "outputs": [
    {
     "data": {
      "text/plain": [
       "int"
      ]
     },
     "execution_count": 67,
     "metadata": {},
     "output_type": "execute_result"
    }
   ],
   "source": [
    "t3 = (2)\n",
    "type(t3)\n"
   ]
  },
  {
   "cell_type": "code",
   "execution_count": 69,
   "id": "196dddd9-17d2-47b4-bfbb-190329ffbdf8",
   "metadata": {},
   "outputs": [
    {
     "data": {
      "text/plain": [
       "tuple"
      ]
     },
     "execution_count": 69,
     "metadata": {},
     "output_type": "execute_result"
    }
   ],
   "source": [
    "t4 = (2,)\n",
    "type(t4)"
   ]
  },
  {
   "cell_type": "code",
   "execution_count": 71,
   "id": "7bbae771-f6bc-4e1c-9caf-8394e057cbb8",
   "metadata": {},
   "outputs": [
    {
     "data": {
      "text/plain": [
       "(2,)"
      ]
     },
     "execution_count": 71,
     "metadata": {},
     "output_type": "execute_result"
    }
   ],
   "source": [
    "t4"
   ]
  },
  {
   "cell_type": "code",
   "execution_count": 73,
   "id": "11303059-73c7-4aaf-865a-52ce9c62b0e9",
   "metadata": {},
   "outputs": [],
   "source": [
    "t5 = tuple(\"Rahul\")"
   ]
  },
  {
   "cell_type": "code",
   "execution_count": 75,
   "id": "0f3ba83b-0a3c-4ed9-a4cd-a14c3c12c6cb",
   "metadata": {},
   "outputs": [
    {
     "data": {
      "text/plain": [
       "('R', 'a', 'h', 'u', 'l')"
      ]
     },
     "execution_count": 75,
     "metadata": {},
     "output_type": "execute_result"
    }
   ],
   "source": [
    "t5"
   ]
  },
  {
   "cell_type": "code",
   "execution_count": 77,
   "id": "cf947dc6-951c-4080-bf4f-bf033facca43",
   "metadata": {},
   "outputs": [
    {
     "data": {
      "text/plain": [
       "tuple"
      ]
     },
     "execution_count": 77,
     "metadata": {},
     "output_type": "execute_result"
    }
   ],
   "source": [
    "type(t5)"
   ]
  },
  {
   "cell_type": "code",
   "execution_count": 79,
   "id": "20afc8af-c82a-4da8-8dda-7a884c642a1e",
   "metadata": {},
   "outputs": [],
   "source": [
    "t = (23, t)"
   ]
  },
  {
   "cell_type": "code",
   "execution_count": 81,
   "id": "e30ba233-ca58-4c93-a67c-7a09a1fcd6f8",
   "metadata": {},
   "outputs": [
    {
     "data": {
      "text/plain": [
       "2"
      ]
     },
     "execution_count": 81,
     "metadata": {},
     "output_type": "execute_result"
    }
   ],
   "source": [
    "len(t)"
   ]
  },
  {
   "cell_type": "code",
   "execution_count": 83,
   "id": "e8bc8d40-dd23-4552-b0ec-74d822c927f0",
   "metadata": {},
   "outputs": [
    {
     "name": "stdout",
     "output_type": "stream",
     "text": [
      "2\n",
      "<class 'tuple'> ([1, 2], [4, 5])\n"
     ]
    }
   ],
   "source": [
    "t = ([1, 2],[4, 5])\n",
    "print(len(t))\n",
    "print(type(t), t)"
   ]
  },
  {
   "cell_type": "code",
   "execution_count": 85,
   "id": "124500b5-6e7f-44d9-b848-bb22e86275cc",
   "metadata": {},
   "outputs": [
    {
     "data": {
      "text/plain": [
       "[1, 2]"
      ]
     },
     "execution_count": 85,
     "metadata": {},
     "output_type": "execute_result"
    }
   ],
   "source": [
    "t[0]"
   ]
  },
  {
   "cell_type": "code",
   "execution_count": 87,
   "id": "5e607d29-01a6-46e6-973d-b7cf4f5662ae",
   "metadata": {},
   "outputs": [
    {
     "data": {
      "text/plain": [
       "list"
      ]
     },
     "execution_count": 87,
     "metadata": {},
     "output_type": "execute_result"
    }
   ],
   "source": [
    "type(t[0])"
   ]
  },
  {
   "cell_type": "code",
   "execution_count": 89,
   "id": "2b83431d-2f79-4051-b618-17a59be93b88",
   "metadata": {},
   "outputs": [],
   "source": [
    "# mutability"
   ]
  },
  {
   "cell_type": "code",
   "execution_count": 91,
   "id": "6f2168c1-c544-4766-88a8-31ed1cd50bea",
   "metadata": {},
   "outputs": [],
   "source": [
    "t = (2, 3, 4)"
   ]
  },
  {
   "cell_type": "code",
   "execution_count": 93,
   "id": "3d3874b4-8821-42ce-9ff4-6854414a5321",
   "metadata": {},
   "outputs": [],
   "source": [
    "# t[0] = 45"
   ]
  },
  {
   "cell_type": "code",
   "execution_count": 95,
   "id": "f6c7df22-6634-45ec-bd94-f413a9d77f85",
   "metadata": {},
   "outputs": [],
   "source": [
    "t = ([1, 3, 4, 5], \"Rahul\")"
   ]
  },
  {
   "cell_type": "code",
   "execution_count": 97,
   "id": "a17338ac-a539-46c9-a7f2-be0149a34d24",
   "metadata": {},
   "outputs": [
    {
     "data": {
      "text/plain": [
       "tuple"
      ]
     },
     "execution_count": 97,
     "metadata": {},
     "output_type": "execute_result"
    }
   ],
   "source": [
    "type(t)"
   ]
  },
  {
   "cell_type": "code",
   "execution_count": 99,
   "id": "4088ccc7-8040-4051-9dc1-792eaa3a9834",
   "metadata": {},
   "outputs": [
    {
     "data": {
      "text/plain": [
       "list"
      ]
     },
     "execution_count": 99,
     "metadata": {},
     "output_type": "execute_result"
    }
   ],
   "source": [
    "type(t[0])"
   ]
  },
  {
   "cell_type": "code",
   "execution_count": 105,
   "id": "3fb4343c-0d42-44eb-8f08-5989208be9a0",
   "metadata": {},
   "outputs": [],
   "source": [
    "t[0][0] = 45"
   ]
  },
  {
   "cell_type": "code",
   "execution_count": 107,
   "id": "d43ca8c3-0822-42b0-a0a9-568fcebe7573",
   "metadata": {},
   "outputs": [
    {
     "data": {
      "text/plain": [
       "([45, 3, 4, 5], 'Rahul')"
      ]
     },
     "execution_count": 107,
     "metadata": {},
     "output_type": "execute_result"
    }
   ],
   "source": [
    "t"
   ]
  },
  {
   "cell_type": "code",
   "execution_count": 109,
   "id": "6df93c94-a557-433e-ae03-9335b11ef5f3",
   "metadata": {},
   "outputs": [
    {
     "data": {
      "text/plain": [
       "tuple"
      ]
     },
     "execution_count": 109,
     "metadata": {},
     "output_type": "execute_result"
    }
   ],
   "source": [
    "type(t)"
   ]
  },
  {
   "cell_type": "code",
   "execution_count": 111,
   "id": "19edf8cc-3a0c-4efc-a883-5a40b3dd267c",
   "metadata": {},
   "outputs": [],
   "source": [
    "# unpacking of tuples"
   ]
  },
  {
   "cell_type": "code",
   "execution_count": 113,
   "id": "6bc4755a-2968-4672-b841-4f3265273339",
   "metadata": {},
   "outputs": [
    {
     "name": "stdout",
     "output_type": "stream",
     "text": [
      "3 4 5 1\n"
     ]
    }
   ],
   "source": [
    "a = 3\n",
    "b = 4\n",
    "c = 5\n",
    "d = 1\n",
    "print(a, b, c, d)"
   ]
  },
  {
   "cell_type": "code",
   "execution_count": 115,
   "id": "680cba6b-0420-4f06-a21a-9823de3151bc",
   "metadata": {},
   "outputs": [
    {
     "name": "stdout",
     "output_type": "stream",
     "text": [
      "2 4\n"
     ]
    }
   ],
   "source": [
    "a, b = 2, 4\n",
    "print(a, b)"
   ]
  },
  {
   "cell_type": "code",
   "execution_count": 117,
   "id": "b799dae0-3aef-4c67-b3ca-7c25cee8e2f6",
   "metadata": {},
   "outputs": [],
   "source": [
    "t = (1, 2, 3, 4)"
   ]
  },
  {
   "cell_type": "code",
   "execution_count": 119,
   "id": "9a437124-01f6-4bfd-a4c0-5149647e2024",
   "metadata": {},
   "outputs": [
    {
     "name": "stdout",
     "output_type": "stream",
     "text": [
      "1 2 3 4\n"
     ]
    }
   ],
   "source": [
    "a, b, c, d = t\n",
    "print(a, b, c, d)"
   ]
  },
  {
   "cell_type": "code",
   "execution_count": 121,
   "id": "3b8b592d-f9db-4379-a984-e121eaf3cea8",
   "metadata": {},
   "outputs": [],
   "source": [
    "# this process is known as unpacking"
   ]
  },
  {
   "cell_type": "code",
   "execution_count": 123,
   "id": "5779905a-8c85-47f1-b78e-b8ac71e7bb4c",
   "metadata": {},
   "outputs": [],
   "source": [
    "# tuple operations"
   ]
  },
  {
   "cell_type": "code",
   "execution_count": 125,
   "id": "2b82518c-3fce-4023-a774-fe8d0e514547",
   "metadata": {},
   "outputs": [],
   "source": [
    "# count"
   ]
  },
  {
   "cell_type": "code",
   "execution_count": 127,
   "id": "a4cc2f12-78c5-4593-8028-1599c84fb536",
   "metadata": {},
   "outputs": [],
   "source": [
    "t = (1, 2, 3, 4)"
   ]
  },
  {
   "cell_type": "code",
   "execution_count": 129,
   "id": "eb6ffaa4-9bf3-41d5-83b2-2a0a19a978d1",
   "metadata": {},
   "outputs": [
    {
     "data": {
      "text/plain": [
       "tuple"
      ]
     },
     "execution_count": 129,
     "metadata": {},
     "output_type": "execute_result"
    }
   ],
   "source": [
    "type(t)"
   ]
  },
  {
   "cell_type": "code",
   "execution_count": 131,
   "id": "baab6327-3f5c-4cfc-81df-867a12997c18",
   "metadata": {},
   "outputs": [
    {
     "data": {
      "text/plain": [
       "1"
      ]
     },
     "execution_count": 131,
     "metadata": {},
     "output_type": "execute_result"
    }
   ],
   "source": [
    "t.count(1)"
   ]
  },
  {
   "cell_type": "code",
   "execution_count": 133,
   "id": "c374e3d0-1404-4059-bd7e-236f0891ee52",
   "metadata": {},
   "outputs": [
    {
     "data": {
      "text/plain": [
       "0"
      ]
     },
     "execution_count": 133,
     "metadata": {},
     "output_type": "execute_result"
    }
   ],
   "source": [
    "t.count(45)"
   ]
  },
  {
   "cell_type": "code",
   "execution_count": 135,
   "id": "4219eb60-0fb4-4123-99f2-5f05484633d2",
   "metadata": {},
   "outputs": [],
   "source": [
    "# index"
   ]
  },
  {
   "cell_type": "code",
   "execution_count": 137,
   "id": "f79e2c5d-93ab-4f74-a6a9-331cdddcfa78",
   "metadata": {},
   "outputs": [
    {
     "data": {
      "text/plain": [
       "(1, 2, 3, 4)"
      ]
     },
     "execution_count": 137,
     "metadata": {},
     "output_type": "execute_result"
    }
   ],
   "source": [
    "t"
   ]
  },
  {
   "cell_type": "code",
   "execution_count": 139,
   "id": "d5b16b1a-9a1c-4a1f-a780-01eb48e11e84",
   "metadata": {},
   "outputs": [
    {
     "data": {
      "text/plain": [
       "1"
      ]
     },
     "execution_count": 139,
     "metadata": {},
     "output_type": "execute_result"
    }
   ],
   "source": [
    "t.index(2)"
   ]
  },
  {
   "cell_type": "code",
   "execution_count": 141,
   "id": "866f1748-c39a-4470-80c7-51608ce89c7a",
   "metadata": {},
   "outputs": [],
   "source": [
    "# iteration"
   ]
  },
  {
   "cell_type": "code",
   "execution_count": 143,
   "id": "cd88b14b-b430-468c-ad5a-627f8def6d38",
   "metadata": {},
   "outputs": [
    {
     "data": {
      "text/plain": [
       "(1, 2, 3, 4)"
      ]
     },
     "execution_count": 143,
     "metadata": {},
     "output_type": "execute_result"
    }
   ],
   "source": [
    "t"
   ]
  },
  {
   "cell_type": "code",
   "execution_count": 145,
   "id": "6fac1da4-c3a7-462a-82f4-877529ba789e",
   "metadata": {},
   "outputs": [
    {
     "data": {
      "text/plain": [
       "4"
      ]
     },
     "execution_count": 145,
     "metadata": {},
     "output_type": "execute_result"
    }
   ],
   "source": [
    "len(t)"
   ]
  },
  {
   "cell_type": "code",
   "execution_count": 149,
   "id": "1ca1b0ad-961b-4b9f-91f4-ec35e9cd4652",
   "metadata": {},
   "outputs": [
    {
     "name": "stdout",
     "output_type": "stream",
     "text": [
      "1\n",
      "4\n",
      "9\n",
      "16\n"
     ]
    }
   ],
   "source": [
    "for i in t:\n",
    "    print(i ** 2)"
   ]
  },
  {
   "cell_type": "code",
   "execution_count": 151,
   "id": "ae3e4408-b2ae-4702-93c6-d1b81b1f6994",
   "metadata": {},
   "outputs": [],
   "source": [
    "# concatenation"
   ]
  },
  {
   "cell_type": "code",
   "execution_count": 153,
   "id": "599da2d8-2afe-4b9d-a5ef-7f403eaa7278",
   "metadata": {},
   "outputs": [],
   "source": [
    "# +, *"
   ]
  },
  {
   "cell_type": "code",
   "execution_count": 155,
   "id": "8dae6b35-cb72-4ff2-bab0-01a1346502a5",
   "metadata": {},
   "outputs": [
    {
     "data": {
      "text/plain": [
       "(1, 2, 3, 4)"
      ]
     },
     "execution_count": 155,
     "metadata": {},
     "output_type": "execute_result"
    }
   ],
   "source": [
    "t "
   ]
  },
  {
   "cell_type": "code",
   "execution_count": 157,
   "id": "ade95a61-b127-42c8-9a13-c397b4ed0c1a",
   "metadata": {},
   "outputs": [],
   "source": [
    "t1 = (5, 6)"
   ]
  },
  {
   "cell_type": "code",
   "execution_count": 159,
   "id": "fba78db2-3c5b-4a1e-9974-46c200e2e70a",
   "metadata": {},
   "outputs": [],
   "source": [
    "t2 = t + t1"
   ]
  },
  {
   "cell_type": "code",
   "execution_count": 161,
   "id": "809d917c-6762-4842-b3bd-7289917dca3e",
   "metadata": {},
   "outputs": [
    {
     "data": {
      "text/plain": [
       "(1, 2, 3, 4, 5, 6)"
      ]
     },
     "execution_count": 161,
     "metadata": {},
     "output_type": "execute_result"
    }
   ],
   "source": [
    "t2"
   ]
  },
  {
   "cell_type": "code",
   "execution_count": 163,
   "id": "ffd67e46-a843-4a2c-a2ec-3c4070794784",
   "metadata": {},
   "outputs": [
    {
     "data": {
      "text/plain": [
       "(1, 2, 3, 4, 5, 6, 1, 2, 3, 4, 5, 6)"
      ]
     },
     "execution_count": 163,
     "metadata": {},
     "output_type": "execute_result"
    }
   ],
   "source": [
    "t2 * 2"
   ]
  },
  {
   "cell_type": "code",
   "execution_count": 165,
   "id": "7bf62563-4316-4a28-9a9f-dacb66877093",
   "metadata": {},
   "outputs": [
    {
     "data": {
      "text/plain": [
       "(1, 2, 3, 4, 5, 6)"
      ]
     },
     "execution_count": 165,
     "metadata": {},
     "output_type": "execute_result"
    }
   ],
   "source": [
    "t2"
   ]
  }
 ],
 "metadata": {
  "kernelspec": {
   "display_name": "Python 3 (ipykernel)",
   "language": "python",
   "name": "python3"
  },
  "language_info": {
   "codemirror_mode": {
    "name": "ipython",
    "version": 3
   },
   "file_extension": ".py",
   "mimetype": "text/x-python",
   "name": "python",
   "nbconvert_exporter": "python",
   "pygments_lexer": "ipython3",
   "version": "3.12.4"
  }
 },
 "nbformat": 4,
 "nbformat_minor": 5
}
