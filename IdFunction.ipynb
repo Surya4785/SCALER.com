{
 "cells": [
  {
   "cell_type": "code",
   "execution_count": 3,
   "id": "496280cc-a0da-405a-b7ab-768cfa9ec884",
   "metadata": {},
   "outputs": [
    {
     "data": {
      "text/plain": [
       "140717187873336"
      ]
     },
     "execution_count": 3,
     "metadata": {},
     "output_type": "execute_result"
    }
   ],
   "source": [
    "x = 5\n",
    "id(x)"
   ]
  },
  {
   "cell_type": "code",
   "execution_count": 5,
   "id": "42d430d5-7a75-41e2-9510-99b08ac3dcc0",
   "metadata": {},
   "outputs": [
    {
     "name": "stdout",
     "output_type": "stream",
     "text": [
      "140717187874616\n"
     ]
    }
   ],
   "source": [
    "x = 45\n",
    "print(id(x))"
   ]
  },
  {
   "cell_type": "code",
   "execution_count": 7,
   "id": "c6ea1f14-cbe2-437c-98ec-52d2c5c11505",
   "metadata": {},
   "outputs": [
    {
     "name": "stdout",
     "output_type": "stream",
     "text": [
      "45\n"
     ]
    }
   ],
   "source": [
    "print(x)"
   ]
  },
  {
   "cell_type": "code",
   "execution_count": 9,
   "id": "99311995-41b5-4d3f-abd1-e69b06c45253",
   "metadata": {},
   "outputs": [
    {
     "name": "stdout",
     "output_type": "stream",
     "text": [
      "1995382503296\n"
     ]
    }
   ],
   "source": [
    "name = \"rahul\"\n",
    "print(id(name))"
   ]
  },
  {
   "cell_type": "code",
   "execution_count": null,
   "id": "b4afea79-9986-4266-9d30-f8dd1f747192",
   "metadata": {},
   "outputs": [],
   "source": []
  }
 ],
 "metadata": {
  "kernelspec": {
   "display_name": "Python 3 (ipykernel)",
   "language": "python",
   "name": "python3"
  },
  "language_info": {
   "codemirror_mode": {
    "name": "ipython",
    "version": 3
   },
   "file_extension": ".py",
   "mimetype": "text/x-python",
   "name": "python",
   "nbconvert_exporter": "python",
   "pygments_lexer": "ipython3",
   "version": "3.12.4"
  }
 },
 "nbformat": 4,
 "nbformat_minor": 5
}
