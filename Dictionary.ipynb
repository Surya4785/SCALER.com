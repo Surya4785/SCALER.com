{
 "cells": [
  {
   "cell_type": "code",
   "execution_count": 1,
   "id": "b106561a-de00-41ea-b2e9-21fd31365e19",
   "metadata": {},
   "outputs": [],
   "source": [
    "# Dictionary"
   ]
  },
  {
   "cell_type": "code",
   "execution_count": 3,
   "id": "605d95aa-4d28-4375-9769-efbc226547ef",
   "metadata": {},
   "outputs": [],
   "source": [
    "# creating an dictionary"
   ]
  },
  {
   "cell_type": "code",
   "execution_count": 5,
   "id": "9e6e15f1-de34-4fe7-b6d1-edf4cd01dad9",
   "metadata": {},
   "outputs": [
    {
     "name": "stdout",
     "output_type": "stream",
     "text": [
      "<class 'dict'>\n"
     ]
    }
   ],
   "source": [
    "d = {}\n",
    "print(type(d))"
   ]
  },
  {
   "cell_type": "code",
   "execution_count": 7,
   "id": "6fa0db09-3e0c-4d09-9bec-93de8703ff99",
   "metadata": {},
   "outputs": [
    {
     "name": "stdout",
     "output_type": "stream",
     "text": [
      "{}\n"
     ]
    }
   ],
   "source": [
    "print(d)"
   ]
  },
  {
   "cell_type": "code",
   "execution_count": 9,
   "id": "8817efec-9907-4c12-88b1-00d7265e4381",
   "metadata": {},
   "outputs": [
    {
     "name": "stdout",
     "output_type": "stream",
     "text": [
      "<class 'dict'>\n",
      "{}\n"
     ]
    }
   ],
   "source": [
    "d = dict()\n",
    "print(type(d))\n",
    "print(d)"
   ]
  },
  {
   "cell_type": "code",
   "execution_count": null,
   "id": "a60da978-2b38-45ef-a714-db412b370cf9",
   "metadata": {},
   "outputs": [],
   "source": []
  },
  {
   "cell_type": "code",
   "execution_count": 12,
   "id": "c483fe4a-8582-4e66-9190-191aefcea4bb",
   "metadata": {},
   "outputs": [],
   "source": [
    "# creating a non empty dictionary"
   ]
  },
  {
   "cell_type": "code",
   "execution_count": 14,
   "id": "99b7f13f-6eb8-4b85-9717-504203e4d2c6",
   "metadata": {},
   "outputs": [],
   "source": [
    "fruits = {\n",
    "    \"Apple\" : 120,\n",
    "    \"Mango\" : 100,\n",
    "    \"Pineapple\" : 90\n",
    "}"
   ]
  },
  {
   "cell_type": "code",
   "execution_count": 16,
   "id": "b1434b61-b09d-48c8-a2a6-d83f2f212f89",
   "metadata": {},
   "outputs": [
    {
     "data": {
      "text/plain": [
       "dict"
      ]
     },
     "execution_count": 16,
     "metadata": {},
     "output_type": "execute_result"
    }
   ],
   "source": [
    "type(fruits)"
   ]
  },
  {
   "cell_type": "code",
   "execution_count": 18,
   "id": "5c77d846-ea16-4abe-99db-5e2f9a5f4ac9",
   "metadata": {},
   "outputs": [
    {
     "data": {
      "text/plain": [
       "{'Apple': 120, 'Mango': 100, 'Pineapple': 90}"
      ]
     },
     "execution_count": 18,
     "metadata": {},
     "output_type": "execute_result"
    }
   ],
   "source": [
    "fruits"
   ]
  },
  {
   "cell_type": "code",
   "execution_count": null,
   "id": "d55fb558-8223-42b7-89ec-ddfc24b3105a",
   "metadata": {},
   "outputs": [],
   "source": []
  },
  {
   "cell_type": "code",
   "execution_count": 21,
   "id": "8a6a51e4-8797-4bb4-9766-d0cb7697d7b8",
   "metadata": {},
   "outputs": [],
   "source": [
    "# zip"
   ]
  },
  {
   "cell_type": "code",
   "execution_count": 29,
   "id": "f53f7c21-02f6-4f8e-a24b-1a89b014d1af",
   "metadata": {},
   "outputs": [],
   "source": [
    "name = [\"Apple\", \"Mango\", \"Oranges\"]\n",
    "prices = [120, 100, 130]"
   ]
  },
  {
   "cell_type": "code",
   "execution_count": 31,
   "id": "63b0ab41-6ed1-4bdd-864d-876d7db39526",
   "metadata": {},
   "outputs": [],
   "source": [
    "fruit = dict(zip(name, prices))"
   ]
  },
  {
   "cell_type": "code",
   "execution_count": 33,
   "id": "7f6c9cd4-b2e5-418d-8409-1c844d9a9556",
   "metadata": {},
   "outputs": [
    {
     "data": {
      "text/plain": [
       "{'Apple': 120, 'Mango': 100, 'Oranges': 130}"
      ]
     },
     "execution_count": 33,
     "metadata": {},
     "output_type": "execute_result"
    }
   ],
   "source": [
    "fruit"
   ]
  },
  {
   "cell_type": "code",
   "execution_count": 35,
   "id": "8e865255-14ce-42bf-9035-baa832aa3226",
   "metadata": {},
   "outputs": [],
   "source": [
    "# using key"
   ]
  },
  {
   "cell_type": "code",
   "execution_count": 37,
   "id": "b9e4452b-9347-4a7a-8f23-7d50fa4a4413",
   "metadata": {},
   "outputs": [],
   "source": [
    "fruits = {\n",
    "    \"Apple\" : 120,\n",
    "    \"Mango\" : 100,\n",
    "    \"Pineapple\" : 90\n",
    "}"
   ]
  },
  {
   "cell_type": "code",
   "execution_count": 39,
   "id": "6df69c45-cb0a-41d6-9856-1749bfaca39f",
   "metadata": {},
   "outputs": [
    {
     "data": {
      "text/plain": [
       "{'Apple': 120, 'Mango': 100, 'Pineapple': 90}"
      ]
     },
     "execution_count": 39,
     "metadata": {},
     "output_type": "execute_result"
    }
   ],
   "source": [
    "fruits"
   ]
  },
  {
   "cell_type": "code",
   "execution_count": 41,
   "id": "4dd236a9-e09c-4bcc-b149-bde7c8edf832",
   "metadata": {},
   "outputs": [
    {
     "data": {
      "text/plain": [
       "120"
      ]
     },
     "execution_count": 41,
     "metadata": {},
     "output_type": "execute_result"
    }
   ],
   "source": [
    "fruits[\"Apple\"]"
   ]
  },
  {
   "cell_type": "code",
   "execution_count": 43,
   "id": "17db8537-4501-45ac-b73e-7c85c5e586ba",
   "metadata": {},
   "outputs": [
    {
     "data": {
      "text/plain": [
       "100"
      ]
     },
     "execution_count": 43,
     "metadata": {},
     "output_type": "execute_result"
    }
   ],
   "source": [
    "fruits[\"Mango\"]"
   ]
  },
  {
   "cell_type": "code",
   "execution_count": 46,
   "id": "63f9695f-b879-48bc-8e33-067f884e2e0c",
   "metadata": {},
   "outputs": [
    {
     "ename": "KeyError",
     "evalue": "'Guava'",
     "output_type": "error",
     "traceback": [
      "\u001b[1;31m---------------------------------------------------------------------------\u001b[0m",
      "\u001b[1;31mKeyError\u001b[0m                                  Traceback (most recent call last)",
      "Cell \u001b[1;32mIn[46], line 1\u001b[0m\n\u001b[1;32m----> 1\u001b[0m fruits[\u001b[38;5;124m\"\u001b[39m\u001b[38;5;124mGuava\u001b[39m\u001b[38;5;124m\"\u001b[39m]\n",
      "\u001b[1;31mKeyError\u001b[0m: 'Guava'"
     ]
    }
   ],
   "source": [
    "fruits[\"Guava\"]  # if fruit is not present then it will give error. "
   ]
  },
  {
   "cell_type": "code",
   "execution_count": null,
   "id": "fa44d931-4c05-4b86-b5d4-f95713611055",
   "metadata": {},
   "outputs": [],
   "source": []
  },
  {
   "cell_type": "code",
   "execution_count": 49,
   "id": "73197fca-83d6-40b3-ae64-279391ebc295",
   "metadata": {},
   "outputs": [],
   "source": [
    "# get method: We use it to avoid error "
   ]
  },
  {
   "cell_type": "code",
   "execution_count": 51,
   "id": "ac9bce5b-5838-41a8-8c45-ec4e06a56f40",
   "metadata": {},
   "outputs": [
    {
     "data": {
      "text/plain": [
       "{'Apple': 120, 'Mango': 100, 'Pineapple': 90}"
      ]
     },
     "execution_count": 51,
     "metadata": {},
     "output_type": "execute_result"
    }
   ],
   "source": [
    "fruits"
   ]
  },
  {
   "cell_type": "code",
   "execution_count": 53,
   "id": "d1f836de-0b88-4723-894c-d666a5252bdd",
   "metadata": {},
   "outputs": [
    {
     "data": {
      "text/plain": [
       "120"
      ]
     },
     "execution_count": 53,
     "metadata": {},
     "output_type": "execute_result"
    }
   ],
   "source": [
    "fruits.get(\"Apple\")"
   ]
  },
  {
   "cell_type": "code",
   "execution_count": 57,
   "id": "ac87964a-0e19-4f59-9e87-d6fe857a3f85",
   "metadata": {},
   "outputs": [],
   "source": [
    "fruits.get(\"guava\")"
   ]
  },
  {
   "cell_type": "code",
   "execution_count": 59,
   "id": "97d4881a-fdf3-467c-abbc-a065ba64eddc",
   "metadata": {},
   "outputs": [
    {
     "data": {
      "text/plain": [
       "'Not available'"
      ]
     },
     "execution_count": 59,
     "metadata": {},
     "output_type": "execute_result"
    }
   ],
   "source": [
    "fruits.get(\"Guava\", \"Not available\")"
   ]
  },
  {
   "cell_type": "code",
   "execution_count": null,
   "id": "6ef52758-9dec-48b5-934c-73c0951d16fd",
   "metadata": {},
   "outputs": [],
   "source": []
  },
  {
   "cell_type": "code",
   "execution_count": 62,
   "id": "ed01cc0e-b9bd-4989-8c55-a0facbbdb3e0",
   "metadata": {},
   "outputs": [],
   "source": [
    "# Updating a dictionary"
   ]
  },
  {
   "cell_type": "code",
   "execution_count": 64,
   "id": "e84221ab-52f3-47e0-839e-5d37c1d161e0",
   "metadata": {},
   "outputs": [],
   "source": [
    "fruits = {\n",
    "    \"Apple\" : 120,\n",
    "    \"Mango\" : 100,\n",
    "    \"Pineapple\" : 90\n",
    "}"
   ]
  },
  {
   "cell_type": "code",
   "execution_count": 66,
   "id": "5153d5ba-df1f-40f2-9827-fb948cedac08",
   "metadata": {},
   "outputs": [
    {
     "data": {
      "text/plain": [
       "{'Apple': 120, 'Mango': 100, 'Pineapple': 90}"
      ]
     },
     "execution_count": 66,
     "metadata": {},
     "output_type": "execute_result"
    }
   ],
   "source": [
    "fruits"
   ]
  },
  {
   "cell_type": "code",
   "execution_count": 68,
   "id": "55dffb7c-e4e8-44c1-b41f-9c23c6186590",
   "metadata": {},
   "outputs": [
    {
     "data": {
      "text/plain": [
       "90"
      ]
     },
     "execution_count": 68,
     "metadata": {},
     "output_type": "execute_result"
    }
   ],
   "source": [
    "fruits[\"Pineapple\"]"
   ]
  },
  {
   "cell_type": "code",
   "execution_count": 70,
   "id": "23ca766f-ff66-45f3-a18a-75029b84c3b3",
   "metadata": {},
   "outputs": [],
   "source": [
    "fruits[\"Pineapple\"] = {\"small\" : 90, \"large\" : 120} "
   ]
  },
  {
   "cell_type": "code",
   "execution_count": 72,
   "id": "a1851899-d90d-48b4-b63f-77aa472c3288",
   "metadata": {},
   "outputs": [
    {
     "data": {
      "text/plain": [
       "{'Apple': 120, 'Mango': 100, 'Pineapple': {'small': 90, 'large': 120}}"
      ]
     },
     "execution_count": 72,
     "metadata": {},
     "output_type": "execute_result"
    }
   ],
   "source": [
    "fruits"
   ]
  },
  {
   "cell_type": "code",
   "execution_count": null,
   "id": "bcfbe2a2-cc73-4ee3-af30-27c01e691480",
   "metadata": {},
   "outputs": [],
   "source": []
  },
  {
   "cell_type": "code",
   "execution_count": 75,
   "id": "07f463c3-e07b-40ec-8970-e121d1c98b6f",
   "metadata": {},
   "outputs": [],
   "source": [
    "# updating with new value"
   ]
  },
  {
   "cell_type": "code",
   "execution_count": 77,
   "id": "3b9472d2-08c1-4780-b51a-f02fe5316e0e",
   "metadata": {},
   "outputs": [
    {
     "data": {
      "text/plain": [
       "{'Apple': 120, 'Mango': 100, 'Pineapple': {'small': 90, 'large': 120}}"
      ]
     },
     "execution_count": 77,
     "metadata": {},
     "output_type": "execute_result"
    }
   ],
   "source": [
    "fruits"
   ]
  },
  {
   "cell_type": "code",
   "execution_count": 79,
   "id": "63f3e323-6b89-4c9d-a0f9-8ac810970013",
   "metadata": {},
   "outputs": [
    {
     "data": {
      "text/plain": [
       "{'Apple': 120,\n",
       " 'Mango': 100,\n",
       " 'Pineapple': {'small': 90, 'large': 120},\n",
       " 'Guava': 80}"
      ]
     },
     "execution_count": 79,
     "metadata": {},
     "output_type": "execute_result"
    }
   ],
   "source": [
    "fruits[\"Guava\"] = 80\n",
    "fruits"
   ]
  },
  {
   "cell_type": "code",
   "execution_count": null,
   "id": "e2f01573-24b6-4449-9847-7c12c97cf4a7",
   "metadata": {},
   "outputs": [],
   "source": []
  },
  {
   "cell_type": "code",
   "execution_count": 99,
   "id": "4cefc59a-d6f6-4503-ac10-820a385abb1c",
   "metadata": {},
   "outputs": [],
   "source": [
    "# multiple updates"
   ]
  },
  {
   "cell_type": "code",
   "execution_count": 101,
   "id": "1079895d-619f-4a2d-ab8a-5ae54d175433",
   "metadata": {},
   "outputs": [],
   "source": [
    "new = {\"grapes\" : 120, \"oranges\" : 70, \"berry\" : 140}"
   ]
  },
  {
   "cell_type": "code",
   "execution_count": 103,
   "id": "27804e70-7ed8-419d-833e-0637a7291d4b",
   "metadata": {},
   "outputs": [],
   "source": [
    "fruits.update(new)"
   ]
  },
  {
   "cell_type": "code",
   "execution_count": 105,
   "id": "9dd90c6c-46d0-455b-bb54-007583644099",
   "metadata": {},
   "outputs": [
    {
     "data": {
      "text/plain": [
       "{'Apple': 120,\n",
       " 'Mango': 100,\n",
       " 'Pineapple': {'small': 90, 'large': 120},\n",
       " 'Guava': 80,\n",
       " 'grapes': 120,\n",
       " 'oranges': 70,\n",
       " 'berry': 140}"
      ]
     },
     "execution_count": 105,
     "metadata": {},
     "output_type": "execute_result"
    }
   ],
   "source": [
    "fruits"
   ]
  },
  {
   "cell_type": "code",
   "execution_count": 107,
   "id": "ec9dfb48-602e-4156-b0b0-59a7e2e2169d",
   "metadata": {},
   "outputs": [],
   "source": [
    "fruits = {\n",
    "    \"Apple\" : 120,\n",
    "    \"Mango\" : 100,\n",
    "    \"Pineapple\" : 90\n",
    "}"
   ]
  },
  {
   "cell_type": "code",
   "execution_count": 109,
   "id": "d3049cfd-72a1-4b6c-a243-09a14255cb5a",
   "metadata": {},
   "outputs": [],
   "source": [
    "# citizenship check"
   ]
  },
  {
   "cell_type": "code",
   "execution_count": 111,
   "id": "860a7910-8e8d-47d9-9acb-fb644123ab89",
   "metadata": {},
   "outputs": [
    {
     "data": {
      "text/plain": [
       "{'Apple': 120, 'Mango': 100, 'Pineapple': 90}"
      ]
     },
     "execution_count": 111,
     "metadata": {},
     "output_type": "execute_result"
    }
   ],
   "source": [
    "fruits"
   ]
  },
  {
   "cell_type": "code",
   "execution_count": 113,
   "id": "2d2c25ab-97e0-427b-9d06-41606a57b671",
   "metadata": {},
   "outputs": [
    {
     "data": {
      "text/plain": [
       "True"
      ]
     },
     "execution_count": 113,
     "metadata": {},
     "output_type": "execute_result"
    }
   ],
   "source": [
    "\"Apple\" in fruits"
   ]
  },
  {
   "cell_type": "code",
   "execution_count": 115,
   "id": "c98171f5-b421-4df9-9de8-7dd134cca17f",
   "metadata": {},
   "outputs": [
    {
     "data": {
      "text/plain": [
       "False"
      ]
     },
     "execution_count": 115,
     "metadata": {},
     "output_type": "execute_result"
    }
   ],
   "source": [
    "\"Grapes\" in fruits"
   ]
  },
  {
   "cell_type": "code",
   "execution_count": 119,
   "id": "fc5f9ca0-d1e9-4948-bf9a-1db22f4ad635",
   "metadata": {},
   "outputs": [
    {
     "data": {
      "text/plain": [
       "120"
      ]
     },
     "execution_count": 119,
     "metadata": {},
     "output_type": "execute_result"
    }
   ],
   "source": [
    "fruits.pop(\"Apple\")"
   ]
  },
  {
   "cell_type": "code",
   "execution_count": 121,
   "id": "9d2a746a-e639-4b19-a808-26548137b031",
   "metadata": {},
   "outputs": [
    {
     "data": {
      "text/plain": [
       "{'Mango': 100, 'Pineapple': 90}"
      ]
     },
     "execution_count": 121,
     "metadata": {},
     "output_type": "execute_result"
    }
   ],
   "source": [
    "fruits"
   ]
  },
  {
   "cell_type": "code",
   "execution_count": 123,
   "id": "041b6290-b518-457b-9906-14083477ed11",
   "metadata": {},
   "outputs": [],
   "source": [
    "# dict.popitem()"
   ]
  },
  {
   "cell_type": "code",
   "execution_count": 125,
   "id": "c7100fe4-9e92-4ff7-a208-2c74ee2ef1d9",
   "metadata": {},
   "outputs": [],
   "source": [
    "fruits = {\n",
    "    \"Apple\" : 120,\n",
    "    \"Mango\" : 100,\n",
    "    \"Pineapple\" : 90\n",
    "}"
   ]
  },
  {
   "cell_type": "code",
   "execution_count": 127,
   "id": "dfe269e3-f019-4ef5-8ae7-1186fa51a5f6",
   "metadata": {},
   "outputs": [
    {
     "data": {
      "text/plain": [
       "{'Apple': 120, 'Mango': 100, 'Pineapple': 90}"
      ]
     },
     "execution_count": 127,
     "metadata": {},
     "output_type": "execute_result"
    }
   ],
   "source": [
    "fruits"
   ]
  },
  {
   "cell_type": "code",
   "execution_count": 129,
   "id": "97252c74-4952-4fc3-a1c1-46768d20e97b",
   "metadata": {},
   "outputs": [
    {
     "data": {
      "text/plain": [
       "('Pineapple', 90)"
      ]
     },
     "execution_count": 129,
     "metadata": {},
     "output_type": "execute_result"
    }
   ],
   "source": [
    "fruits.popitem()"
   ]
  },
  {
   "cell_type": "code",
   "execution_count": 131,
   "id": "73da2abb-d7c8-4c15-8a03-d3e968837aef",
   "metadata": {},
   "outputs": [
    {
     "data": {
      "text/plain": [
       "{'Apple': 120, 'Mango': 100}"
      ]
     },
     "execution_count": 131,
     "metadata": {},
     "output_type": "execute_result"
    }
   ],
   "source": [
    "fruits"
   ]
  },
  {
   "cell_type": "code",
   "execution_count": 133,
   "id": "8fae3390-d257-4577-a1ea-bd458015ecee",
   "metadata": {},
   "outputs": [
    {
     "data": {
      "text/plain": [
       "('Mango', 100)"
      ]
     },
     "execution_count": 133,
     "metadata": {},
     "output_type": "execute_result"
    }
   ],
   "source": [
    "fruits.popitem()"
   ]
  },
  {
   "cell_type": "code",
   "execution_count": 135,
   "id": "200417a1-dbd1-491d-92b0-818a4036cd03",
   "metadata": {},
   "outputs": [
    {
     "data": {
      "text/plain": [
       "{'Apple': 120}"
      ]
     },
     "execution_count": 135,
     "metadata": {},
     "output_type": "execute_result"
    }
   ],
   "source": [
    "fruits"
   ]
  },
  {
   "cell_type": "code",
   "execution_count": 137,
   "id": "964f1ce2-ae96-4a1b-a01b-a49f7a69fcd9",
   "metadata": {},
   "outputs": [
    {
     "data": {
      "text/plain": [
       "('Apple', 120)"
      ]
     },
     "execution_count": 137,
     "metadata": {},
     "output_type": "execute_result"
    }
   ],
   "source": [
    "fruits.popitem()"
   ]
  },
  {
   "cell_type": "code",
   "execution_count": 139,
   "id": "3c2243bd-b5d1-45e7-b4d0-e896ec61f4ef",
   "metadata": {},
   "outputs": [
    {
     "data": {
      "text/plain": [
       "{}"
      ]
     },
     "execution_count": 139,
     "metadata": {},
     "output_type": "execute_result"
    }
   ],
   "source": [
    "fruits"
   ]
  },
  {
   "cell_type": "code",
   "execution_count": null,
   "id": "71010d9f-0829-4a6f-918c-20cec317ae10",
   "metadata": {},
   "outputs": [],
   "source": []
  },
  {
   "cell_type": "code",
   "execution_count": 142,
   "id": "0951e4f2-9da9-4b21-b479-d24625417117",
   "metadata": {},
   "outputs": [],
   "source": [
    "# del object"
   ]
  },
  {
   "cell_type": "code",
   "execution_count": 144,
   "id": "16df54c4-f7f7-4251-8f48-d631084d6bfd",
   "metadata": {},
   "outputs": [],
   "source": [
    "fruits = {\n",
    "    \"Apple\" : 120,\n",
    "    \"Mango\" : 100,\n",
    "    \"Pineapple\" : 90\n",
    "}"
   ]
  },
  {
   "cell_type": "code",
   "execution_count": 146,
   "id": "3f7c28ce-603e-4615-a4f3-566b85cbb490",
   "metadata": {},
   "outputs": [
    {
     "data": {
      "text/plain": [
       "{'Apple': 120, 'Mango': 100, 'Pineapple': 90}"
      ]
     },
     "execution_count": 146,
     "metadata": {},
     "output_type": "execute_result"
    }
   ],
   "source": [
    "fruits"
   ]
  },
  {
   "cell_type": "code",
   "execution_count": 158,
   "id": "c6a730fd-21f1-4915-ba0e-26d530baa6d8",
   "metadata": {},
   "outputs": [],
   "source": [
    "del fruits # it will permanently delete the data from the device\n"
   ]
  },
  {
   "cell_type": "code",
   "execution_count": 160,
   "id": "69c71119-9987-4f90-990e-ed10938d9883",
   "metadata": {},
   "outputs": [],
   "source": [
    "fruits = {\n",
    "    \"Apple\" : 120,\n",
    "    \"Mango\" : 100,\n",
    "    \"Pineapple\" : 90\n",
    "}"
   ]
  },
  {
   "cell_type": "code",
   "execution_count": 162,
   "id": "75322538-0e79-4331-a654-bb741feab5cf",
   "metadata": {},
   "outputs": [
    {
     "name": "stdout",
     "output_type": "stream",
     "text": [
      "Apple\n",
      "Mango\n",
      "Pineapple\n"
     ]
    }
   ],
   "source": [
    "for i in fruits:\n",
    "    print(i)"
   ]
  },
  {
   "cell_type": "code",
   "execution_count": 164,
   "id": "ec29fc66-a849-48a7-934d-0c7117d7fe08",
   "metadata": {},
   "outputs": [
    {
     "name": "stdout",
     "output_type": "stream",
     "text": [
      "Apple 120\n",
      "Mango 100\n",
      "Pineapple 90\n"
     ]
    }
   ],
   "source": [
    "for i in fruits:\n",
    "    print(i, fruits[i])"
   ]
  },
  {
   "cell_type": "code",
   "execution_count": null,
   "id": "75b80e70-ecec-40a6-bcc9-d9bb945f2c92",
   "metadata": {},
   "outputs": [],
   "source": []
  },
  {
   "cell_type": "code",
   "execution_count": 167,
   "id": "80f3e12c-ff05-4c88-9cc9-cc060ebc6003",
   "metadata": {},
   "outputs": [],
   "source": [
    "# using dict.items()"
   ]
  },
  {
   "cell_type": "code",
   "execution_count": 169,
   "id": "75f1c12e-0cd3-4630-931b-6cd437d8298c",
   "metadata": {},
   "outputs": [
    {
     "name": "stdout",
     "output_type": "stream",
     "text": [
      "Apple 120\n",
      "Mango 100\n",
      "Pineapple 90\n"
     ]
    }
   ],
   "source": [
    "for key, value in fruits.items():\n",
    "    print(key, value)"
   ]
  },
  {
   "cell_type": "code",
   "execution_count": 173,
   "id": "b8aebe0d-3a42-490b-945b-3f2127fdaf20",
   "metadata": {},
   "outputs": [
    {
     "data": {
      "text/plain": [
       "dict_items([('Apple', 120), ('Mango', 100), ('Pineapple', 90)])"
      ]
     },
     "execution_count": 173,
     "metadata": {},
     "output_type": "execute_result"
    }
   ],
   "source": [
    "fruits.items()"
   ]
  },
  {
   "cell_type": "code",
   "execution_count": 175,
   "id": "d2c2cdc3-680d-4f39-ac29-77bdba3bcd59",
   "metadata": {},
   "outputs": [],
   "source": [
    "# morre dictionary methods"
   ]
  },
  {
   "cell_type": "code",
   "execution_count": 177,
   "id": "1ba33b75-ce66-49c1-b953-74b46ab300c6",
   "metadata": {},
   "outputs": [],
   "source": [
    "fruits = {\n",
    "    \"Apple\" : 120,\n",
    "    \"Mango\" : 100,\n",
    "    \"Pineapple\" : 90\n",
    "}"
   ]
  },
  {
   "cell_type": "code",
   "execution_count": 179,
   "id": "282a908b-3468-4884-9a3a-470224953f57",
   "metadata": {},
   "outputs": [
    {
     "data": {
      "text/plain": [
       "dict_keys(['Apple', 'Mango', 'Pineapple'])"
      ]
     },
     "execution_count": 179,
     "metadata": {},
     "output_type": "execute_result"
    }
   ],
   "source": [
    "fruits.keys()"
   ]
  },
  {
   "cell_type": "code",
   "execution_count": 181,
   "id": "4e8db718-f0d6-4fab-ab17-786a6925f873",
   "metadata": {},
   "outputs": [
    {
     "data": {
      "text/plain": [
       "dict_values([120, 100, 90])"
      ]
     },
     "execution_count": 181,
     "metadata": {},
     "output_type": "execute_result"
    }
   ],
   "source": [
    "fruits.values()"
   ]
  },
  {
   "cell_type": "code",
   "execution_count": 183,
   "id": "6b544f3f-6080-4a26-ad22-8d9293dfb3e3",
   "metadata": {},
   "outputs": [
    {
     "data": {
      "text/plain": [
       "dict_items([('Apple', 120), ('Mango', 100), ('Pineapple', 90)])"
      ]
     },
     "execution_count": 183,
     "metadata": {},
     "output_type": "execute_result"
    }
   ],
   "source": [
    "fruits.items()"
   ]
  },
  {
   "cell_type": "code",
   "execution_count": 185,
   "id": "7013cf32-533d-4eb2-a388-7fbb75ad59dd",
   "metadata": {},
   "outputs": [],
   "source": [
    "# challenge"
   ]
  },
  {
   "cell_type": "code",
   "execution_count": 191,
   "id": "ce63d5f0-fd14-4f76-b7e4-f7cbefad67b7",
   "metadata": {},
   "outputs": [],
   "source": [
    "d = {\"r\" : 1, \"r\" : 3} # it will update the latest value of r i.e 2nd vale is the latest value\n"
   ]
  },
  {
   "cell_type": "code",
   "execution_count": 193,
   "id": "f0662b11-2840-4a81-bd79-6ac0c83b293e",
   "metadata": {},
   "outputs": [
    {
     "data": {
      "text/plain": [
       "{'r': 3}"
      ]
     },
     "execution_count": 193,
     "metadata": {},
     "output_type": "execute_result"
    }
   ],
   "source": [
    "d"
   ]
  },
  {
   "cell_type": "code",
   "execution_count": 195,
   "id": "83253db9-3955-4c3d-b308-76af524447d3",
   "metadata": {},
   "outputs": [
    {
     "name": "stdin",
     "output_type": "stream",
     "text": [
      " Sonu Gupta\n"
     ]
    }
   ],
   "source": [
    "name = input()"
   ]
  },
  {
   "cell_type": "code",
   "execution_count": 197,
   "id": "4995b538-39d4-4e00-8833-1b3fb5835fda",
   "metadata": {},
   "outputs": [
    {
     "name": "stdout",
     "output_type": "stream",
     "text": [
      "S\n",
      "o\n",
      "n\n",
      "u\n",
      " \n",
      "G\n",
      "u\n",
      "p\n",
      "t\n",
      "a\n"
     ]
    }
   ],
   "source": [
    "for i in name:\n",
    "    print(i)"
   ]
  },
  {
   "cell_type": "code",
   "execution_count": 199,
   "id": "8a9a04b5-babd-4cdc-9bc8-043805e867c6",
   "metadata": {},
   "outputs": [
    {
     "name": "stdout",
     "output_type": "stream",
     "text": [
      "{'S': 1, 'o': 1, 'n': 1, 'u': 2, ' ': 1, 'G': 1, 'p': 1, 't': 1, 'a': 1}\n"
     ]
    }
   ],
   "source": [
    "freq = {}\n",
    "for i in name:\n",
    "    if i not in freq:\n",
    "        # check for presence\n",
    "        freq[i] = 1\n",
    "    # if present, increment the freq by factor of 1      \n",
    "    else:\n",
    "        freq[i] += 1\n",
    "print(freq)\n"
   ]
  }
 ],
 "metadata": {
  "kernelspec": {
   "display_name": "Python 3 (ipykernel)",
   "language": "python",
   "name": "python3"
  },
  "language_info": {
   "codemirror_mode": {
    "name": "ipython",
    "version": 3
   },
   "file_extension": ".py",
   "mimetype": "text/x-python",
   "name": "python",
   "nbconvert_exporter": "python",
   "pygments_lexer": "ipython3",
   "version": "3.12.4"
  }
 },
 "nbformat": 4,
 "nbformat_minor": 5
}
