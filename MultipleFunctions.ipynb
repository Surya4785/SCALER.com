{
 "cells": [
  {
   "cell_type": "code",
   "execution_count": null,
   "id": "1ae259d2-6bb2-405b-a1fc-7477568224f2",
   "metadata": {},
   "outputs": [],
   "source": [
    "# printing multiple values using print function"
   ]
  },
  {
   "cell_type": "code",
   "execution_count": 7,
   "id": "7daf3c1a-7f5f-49e7-b3a6-a0aa1b119208",
   "metadata": {},
   "outputs": [
    {
     "name": "stdout",
     "output_type": "stream",
     "text": [
      "Rahul 26\n",
      "Rohit 34\n"
     ]
    }
   ],
   "source": [
    "print(\"Rahul\",26)\n",
    "print(\"Rohit\",34)"
   ]
  },
  {
   "cell_type": "code",
   "execution_count": 3,
   "id": "4c0c737d-0b23-459a-bb46-44ac3208e004",
   "metadata": {},
   "outputs": [
    {
     "name": "stdout",
     "output_type": "stream",
     "text": [
      "Rahul Emma johnson Iron Man 25 32 36 88.9 90.0 98.9\n"
     ]
    }
   ],
   "source": [
    "print(\"Rahul\", \"Emma johnson\",\"Iron Man\",25,32,36,88.90,90.00,98.90)"
   ]
  },
  {
   "cell_type": "code",
   "execution_count": 5,
   "id": "f6e8c0de-6e22-4034-8596-f7f137b44fb1",
   "metadata": {},
   "outputs": [
    {
     "data": {
      "text/plain": [
       "\u001b[1;31mSignature:\u001b[0m \u001b[0mprint\u001b[0m\u001b[1;33m(\u001b[0m\u001b[1;33m*\u001b[0m\u001b[0margs\u001b[0m\u001b[1;33m,\u001b[0m \u001b[0msep\u001b[0m\u001b[1;33m=\u001b[0m\u001b[1;34m' '\u001b[0m\u001b[1;33m,\u001b[0m \u001b[0mend\u001b[0m\u001b[1;33m=\u001b[0m\u001b[1;34m'\\n'\u001b[0m\u001b[1;33m,\u001b[0m \u001b[0mfile\u001b[0m\u001b[1;33m=\u001b[0m\u001b[1;32mNone\u001b[0m\u001b[1;33m,\u001b[0m \u001b[0mflush\u001b[0m\u001b[1;33m=\u001b[0m\u001b[1;32mFalse\u001b[0m\u001b[1;33m)\u001b[0m\u001b[1;33m\u001b[0m\u001b[1;33m\u001b[0m\u001b[0m\n",
       "\u001b[1;31mDocstring:\u001b[0m\n",
       "Prints the values to a stream, or to sys.stdout by default.\n",
       "\n",
       "sep\n",
       "  string inserted between values, default a space.\n",
       "end\n",
       "  string appended after the last value, default a newline.\n",
       "file\n",
       "  a file-like object (stream); defaults to the current sys.stdout.\n",
       "flush\n",
       "  whether to forcibly flush the stream.\n",
       "\u001b[1;31mType:\u001b[0m      builtin_function_or_method"
      ]
     },
     "metadata": {},
     "output_type": "display_data"
    }
   ],
   "source": [
    "print?"
   ]
  },
  {
   "cell_type": "code",
   "execution_count": null,
   "id": "87504141-d977-42bc-92f7-fd7280a0cf32",
   "metadata": {},
   "outputs": [],
   "source": [
    "# changing from by default to user value seperation..."
   ]
  },
  {
   "cell_type": "code",
   "execution_count": 9,
   "id": "6a3357b3-4ab4-408e-9dce-682932d5a087",
   "metadata": {},
   "outputs": [
    {
     "name": "stdout",
     "output_type": "stream",
     "text": [
      "Rahul,Emma johnson,Iron Man,25,32,36,88.9,90.0,98.9\n"
     ]
    }
   ],
   "source": [
    "print(\"Rahul\", \"Emma johnson\",\"Iron Man\",25,32,36,88.90,90.00,98.90,sep=\",\")"
   ]
  },
  {
   "cell_type": "code",
   "execution_count": 15,
   "id": "8004853a-205b-4738-8333-d28d21c0e0df",
   "metadata": {},
   "outputs": [
    {
     "name": "stdout",
     "output_type": "stream",
     "text": [
      "Rahul->26\n"
     ]
    }
   ],
   "source": [
    "print(\"Rahul\",26,sep=\"->\")"
   ]
  },
  {
   "cell_type": "code",
   "execution_count": 13,
   "id": "36238891-cba4-4cd0-a1b7-4ba61128d68e",
   "metadata": {},
   "outputs": [
    {
     "name": "stdout",
     "output_type": "stream",
     "text": [
      "Rahul\n",
      "Emma johnson\n",
      "Iron Man\n",
      "25\n",
      "32\n",
      "36\n",
      "88.9\n",
      "90.0\n",
      "98.9\n"
     ]
    }
   ],
   "source": [
    "print(\"Rahul\", \"Emma johnson\",\"Iron Man\",25,32,36,88.90,90.00,98.90,sep=\"\\n\")"
   ]
  },
  {
   "cell_type": "code",
   "execution_count": null,
   "id": "22d777e3-0ddd-4d9a-9bad-c0a023c27ec3",
   "metadata": {},
   "outputs": [],
   "source": [
    "# changing default value of seperator..."
   ]
  },
  {
   "cell_type": "code",
   "execution_count": 23,
   "id": "b5c71c26-8704-46e5-bb9c-ae5db386032b",
   "metadata": {},
   "outputs": [
    {
     "name": "stdout",
     "output_type": "stream",
     "text": [
      "Rahul 26 Rohit 34\n"
     ]
    }
   ],
   "source": [
    "print(\"Rahul\", 26, end=\" \")\n",
    "print(\"Rohit\", 34)"
   ]
  },
  {
   "cell_type": "code",
   "execution_count": 27,
   "id": "63f6f8f6-dba6-4f36-a91e-7f55b9872d58",
   "metadata": {},
   "outputs": [
    {
     "name": "stdout",
     "output_type": "stream",
     "text": [
      "Rahul\n",
      "26 -> Rohit 34\n"
     ]
    }
   ],
   "source": [
    "print(\"Rahul\", 26,sep=\"\\n\", end=\" -> \")\n",
    "print(\"Rohit\", 34)"
   ]
  },
  {
   "cell_type": "code",
   "execution_count": 36,
   "id": "f4d5c554-b6c9-431f-97fe-8393f757a0c3",
   "metadata": {},
   "outputs": [
    {
     "name": "stdout",
     "output_type": "stream",
     "text": [
      "Hello Rahul Are you excited?\n"
     ]
    }
   ],
   "source": [
    "print(\"Hello\", \"Rahul\",end=\" \")\n",
    "print(\"Are you excited?\")"
   ]
  },
  {
   "cell_type": "code",
   "execution_count": null,
   "id": "4f107b98-fb53-4d0c-b477-7e48cd144ff3",
   "metadata": {},
   "outputs": [],
   "source": []
  },
  {
   "cell_type": "code",
   "execution_count": null,
   "id": "201dc8fb-1ceb-403d-9d00-6dc4c6526c42",
   "metadata": {},
   "outputs": [],
   "source": []
  }
 ],
 "metadata": {
  "kernelspec": {
   "display_name": "Python 3 (ipykernel)",
   "language": "python",
   "name": "python3"
  },
  "language_info": {
   "codemirror_mode": {
    "name": "ipython",
    "version": 3
   },
   "file_extension": ".py",
   "mimetype": "text/x-python",
   "name": "python",
   "nbconvert_exporter": "python",
   "pygments_lexer": "ipython3",
   "version": "3.12.4"
  }
 },
 "nbformat": 4,
 "nbformat_minor": 5
}
